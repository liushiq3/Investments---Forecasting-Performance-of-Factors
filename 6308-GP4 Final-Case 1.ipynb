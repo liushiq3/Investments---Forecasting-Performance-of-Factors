{
 "cells": [
  {
   "cell_type": "code",
   "execution_count": 1,
   "metadata": {},
   "outputs": [],
   "source": [
    "import pandas as pd\n",
    "import numpy as np\n",
    "from datetime import datetime\n",
    "import statsmodels.api as sm\n",
    "import statsmodels.formula.api as smf\n",
    "import matplotlib.pyplot as plt\n",
    "from numpy.linalg import inv,norm\n",
    "from scipy.special import beta,betainc\n",
    "from scipy import linalg\n",
    "from sklearn import linear_model\n",
    "from sklearn.preprocessing import StandardScaler\n",
    "from functools import reduce\n",
    "from scipy import optimize\n",
    "import seaborn as sns\n",
    "from sklearn.preprocessing import scale \n",
    "from sklearn import metrics\n",
    "# from IPython.display import display\n",
    "from IPython.core.interactiveshell import InteractiveShell\n",
    "from sklearn.model_selection import GridSearchCV\n",
    "InteractiveShell.ast_node_interactivity = \"all\"\n",
    "# pd.set_option('display.max_rows', 100, 'display.min_rows', 20)\n",
    "from sklearn.linear_model import LinearRegression\n",
    "from sklearn import neighbors\n",
    "from sklearn.metrics import accuracy_score, recall_score, precision_score, f1_score\n",
    "from sklearn.metrics import confusion_matrix, classification_report\n",
    "from sklearn.metrics import roc_curve, auc, average_precision_score\n",
    "from sklearn.tree import DecisionTreeClassifier"
   ]
  },
  {
   "cell_type": "code",
   "execution_count": 2,
   "metadata": {},
   "outputs": [],
   "source": [
    "data = pd.read_csv('data_project4.csv',header=None)\n",
    "data.rename(columns=data.iloc[0], inplace=True)\n",
    "data = data.drop(0,axis=0) \n",
    "median = data.iloc[:,1:].median()\n",
    "data.fillna(median, inplace=True)\n",
    "data.set_index('month',inplace=True)\n",
    "data = data.astype(float)"
   ]
  },
  {
   "cell_type": "code",
   "execution_count": 3,
   "metadata": {
    "scrolled": false
   },
   "outputs": [
    {
     "data": {
      "text/html": [
       "<div>\n",
       "<style scoped>\n",
       "    .dataframe tbody tr th:only-of-type {\n",
       "        vertical-align: middle;\n",
       "    }\n",
       "\n",
       "    .dataframe tbody tr th {\n",
       "        vertical-align: top;\n",
       "    }\n",
       "\n",
       "    .dataframe thead th {\n",
       "        text-align: right;\n",
       "    }\n",
       "</style>\n",
       "<table border=\"1\" class=\"dataframe\">\n",
       "  <thead>\n",
       "    <tr style=\"text-align: right;\">\n",
       "      <th></th>\n",
       "      <th>Beta60M</th>\n",
       "      <th>AccrualRatioCF</th>\n",
       "      <th>AnnVol12M</th>\n",
       "      <th>AnnVol1M</th>\n",
       "      <th>AstAdjChg1YFCF</th>\n",
       "      <th>AstAdjChg1YOCF</th>\n",
       "      <th>BP</th>\n",
       "      <th>CapAcqRatio</th>\n",
       "      <th>CashCycle</th>\n",
       "      <th>CFROIC</th>\n",
       "      <th>...</th>\n",
       "      <th>DSERRG3M086SBEA</th>\n",
       "      <th>CES0600000008</th>\n",
       "      <th>CES2000000008</th>\n",
       "      <th>CES3000000008</th>\n",
       "      <th>UMCSENTx</th>\n",
       "      <th>MZMSL</th>\n",
       "      <th>DTCOLNVHFNM</th>\n",
       "      <th>DTCTHFNM</th>\n",
       "      <th>INVEST</th>\n",
       "      <th>VXOCLSx</th>\n",
       "    </tr>\n",
       "    <tr>\n",
       "      <th>month</th>\n",
       "      <th></th>\n",
       "      <th></th>\n",
       "      <th></th>\n",
       "      <th></th>\n",
       "      <th></th>\n",
       "      <th></th>\n",
       "      <th></th>\n",
       "      <th></th>\n",
       "      <th></th>\n",
       "      <th></th>\n",
       "      <th></th>\n",
       "      <th></th>\n",
       "      <th></th>\n",
       "      <th></th>\n",
       "      <th></th>\n",
       "      <th></th>\n",
       "      <th></th>\n",
       "      <th></th>\n",
       "      <th></th>\n",
       "      <th></th>\n",
       "      <th></th>\n",
       "    </tr>\n",
       "  </thead>\n",
       "  <tbody>\n",
       "    <tr>\n",
       "      <th>198701</th>\n",
       "      <td>0.056337</td>\n",
       "      <td>0.001591</td>\n",
       "      <td>0.060995</td>\n",
       "      <td>0.039056</td>\n",
       "      <td>0.014636</td>\n",
       "      <td>0.000931</td>\n",
       "      <td>-0.026221</td>\n",
       "      <td>0.024939</td>\n",
       "      <td>-0.054107</td>\n",
       "      <td>0.004314</td>\n",
       "      <td>...</td>\n",
       "      <td>47.011</td>\n",
       "      <td>10.29</td>\n",
       "      <td>12.03</td>\n",
       "      <td>9.67</td>\n",
       "      <td>90.4</td>\n",
       "      <td>1977.7</td>\n",
       "      <td>91854.00</td>\n",
       "      <td>143101.22</td>\n",
       "      <td>499.6617</td>\n",
       "      <td>20.7666</td>\n",
       "    </tr>\n",
       "    <tr>\n",
       "      <th>198702</th>\n",
       "      <td>0.042464</td>\n",
       "      <td>0.001591</td>\n",
       "      <td>0.049927</td>\n",
       "      <td>0.015163</td>\n",
       "      <td>0.011712</td>\n",
       "      <td>0.000931</td>\n",
       "      <td>-0.015425</td>\n",
       "      <td>0.025917</td>\n",
       "      <td>-0.034943</td>\n",
       "      <td>0.004314</td>\n",
       "      <td>...</td>\n",
       "      <td>47.077</td>\n",
       "      <td>10.29</td>\n",
       "      <td>11.99</td>\n",
       "      <td>9.69</td>\n",
       "      <td>90.2</td>\n",
       "      <td>1986.1</td>\n",
       "      <td>90918.00</td>\n",
       "      <td>142077.83</td>\n",
       "      <td>500.8418</td>\n",
       "      <td>23.4463</td>\n",
       "    </tr>\n",
       "    <tr>\n",
       "      <th>198703</th>\n",
       "      <td>0.002173</td>\n",
       "      <td>0.001591</td>\n",
       "      <td>0.043896</td>\n",
       "      <td>0.023588</td>\n",
       "      <td>0.037978</td>\n",
       "      <td>0.000931</td>\n",
       "      <td>0.020609</td>\n",
       "      <td>0.012059</td>\n",
       "      <td>0.024595</td>\n",
       "      <td>0.004314</td>\n",
       "      <td>...</td>\n",
       "      <td>47.196</td>\n",
       "      <td>10.33</td>\n",
       "      <td>12.12</td>\n",
       "      <td>9.71</td>\n",
       "      <td>90.8</td>\n",
       "      <td>1995.7</td>\n",
       "      <td>91405.00</td>\n",
       "      <td>142083.71</td>\n",
       "      <td>502.8252</td>\n",
       "      <td>21.8372</td>\n",
       "    </tr>\n",
       "    <tr>\n",
       "      <th>198704</th>\n",
       "      <td>0.028176</td>\n",
       "      <td>0.001591</td>\n",
       "      <td>0.022187</td>\n",
       "      <td>0.036322</td>\n",
       "      <td>0.026684</td>\n",
       "      <td>0.000931</td>\n",
       "      <td>0.017374</td>\n",
       "      <td>0.034101</td>\n",
       "      <td>-0.027120</td>\n",
       "      <td>0.004314</td>\n",
       "      <td>...</td>\n",
       "      <td>47.391</td>\n",
       "      <td>10.33</td>\n",
       "      <td>12.10</td>\n",
       "      <td>9.71</td>\n",
       "      <td>92.8</td>\n",
       "      <td>2011.8</td>\n",
       "      <td>92433.00</td>\n",
       "      <td>143609.70</td>\n",
       "      <td>508.0058</td>\n",
       "      <td>26.8814</td>\n",
       "    </tr>\n",
       "    <tr>\n",
       "      <th>198705</th>\n",
       "      <td>-0.007836</td>\n",
       "      <td>0.001591</td>\n",
       "      <td>0.013500</td>\n",
       "      <td>0.010374</td>\n",
       "      <td>0.004581</td>\n",
       "      <td>0.000931</td>\n",
       "      <td>0.014158</td>\n",
       "      <td>0.033546</td>\n",
       "      <td>0.001235</td>\n",
       "      <td>0.004314</td>\n",
       "      <td>...</td>\n",
       "      <td>47.528</td>\n",
       "      <td>10.36</td>\n",
       "      <td>12.14</td>\n",
       "      <td>9.73</td>\n",
       "      <td>91.1</td>\n",
       "      <td>2016.2</td>\n",
       "      <td>93028.00</td>\n",
       "      <td>144035.46</td>\n",
       "      <td>512.0438</td>\n",
       "      <td>25.4115</td>\n",
       "    </tr>\n",
       "    <tr>\n",
       "      <th>...</th>\n",
       "      <td>...</td>\n",
       "      <td>...</td>\n",
       "      <td>...</td>\n",
       "      <td>...</td>\n",
       "      <td>...</td>\n",
       "      <td>...</td>\n",
       "      <td>...</td>\n",
       "      <td>...</td>\n",
       "      <td>...</td>\n",
       "      <td>...</td>\n",
       "      <td>...</td>\n",
       "      <td>...</td>\n",
       "      <td>...</td>\n",
       "      <td>...</td>\n",
       "      <td>...</td>\n",
       "      <td>...</td>\n",
       "      <td>...</td>\n",
       "      <td>...</td>\n",
       "      <td>...</td>\n",
       "      <td>...</td>\n",
       "      <td>...</td>\n",
       "    </tr>\n",
       "    <tr>\n",
       "      <th>201908</th>\n",
       "      <td>-0.103519</td>\n",
       "      <td>0.021188</td>\n",
       "      <td>-0.113502</td>\n",
       "      <td>-0.081400</td>\n",
       "      <td>-0.011808</td>\n",
       "      <td>-0.000178</td>\n",
       "      <td>-0.066748</td>\n",
       "      <td>0.002678</td>\n",
       "      <td>-0.006517</td>\n",
       "      <td>-0.012816</td>\n",
       "      <td>...</td>\n",
       "      <td>118.174</td>\n",
       "      <td>24.83</td>\n",
       "      <td>28.58</td>\n",
       "      <td>22.22</td>\n",
       "      <td>89.8</td>\n",
       "      <td>16453.3</td>\n",
       "      <td>318844.23</td>\n",
       "      <td>729983.12</td>\n",
       "      <td>3725.4861</td>\n",
       "      <td>21.0968</td>\n",
       "    </tr>\n",
       "    <tr>\n",
       "      <th>201909</th>\n",
       "      <td>0.043274</td>\n",
       "      <td>0.003798</td>\n",
       "      <td>0.026859</td>\n",
       "      <td>0.036783</td>\n",
       "      <td>-0.022247</td>\n",
       "      <td>-0.027743</td>\n",
       "      <td>0.063228</td>\n",
       "      <td>-0.014819</td>\n",
       "      <td>-0.023947</td>\n",
       "      <td>-0.018980</td>\n",
       "      <td>...</td>\n",
       "      <td>118.324</td>\n",
       "      <td>24.90</td>\n",
       "      <td>28.63</td>\n",
       "      <td>22.26</td>\n",
       "      <td>93.2</td>\n",
       "      <td>16580.4</td>\n",
       "      <td>318925.57</td>\n",
       "      <td>727830.98</td>\n",
       "      <td>3788.7224</td>\n",
       "      <td>16.3081</td>\n",
       "    </tr>\n",
       "    <tr>\n",
       "      <th>201910</th>\n",
       "      <td>0.027143</td>\n",
       "      <td>-0.025608</td>\n",
       "      <td>0.019069</td>\n",
       "      <td>0.003107</td>\n",
       "      <td>-0.004311</td>\n",
       "      <td>-0.006812</td>\n",
       "      <td>-0.024341</td>\n",
       "      <td>0.013169</td>\n",
       "      <td>-0.014260</td>\n",
       "      <td>0.017936</td>\n",
       "      <td>...</td>\n",
       "      <td>118.563</td>\n",
       "      <td>24.95</td>\n",
       "      <td>28.68</td>\n",
       "      <td>22.30</td>\n",
       "      <td>95.5</td>\n",
       "      <td>16756.8</td>\n",
       "      <td>319634.33</td>\n",
       "      <td>728678.29</td>\n",
       "      <td>3799.6553</td>\n",
       "      <td>15.9863</td>\n",
       "    </tr>\n",
       "    <tr>\n",
       "      <th>201911</th>\n",
       "      <td>0.059254</td>\n",
       "      <td>-0.021909</td>\n",
       "      <td>0.055230</td>\n",
       "      <td>0.039117</td>\n",
       "      <td>-0.009215</td>\n",
       "      <td>-0.015428</td>\n",
       "      <td>-0.001510</td>\n",
       "      <td>0.036827</td>\n",
       "      <td>0.004092</td>\n",
       "      <td>0.014436</td>\n",
       "      <td>...</td>\n",
       "      <td>118.707</td>\n",
       "      <td>24.98</td>\n",
       "      <td>28.72</td>\n",
       "      <td>22.39</td>\n",
       "      <td>96.8</td>\n",
       "      <td>16901.3</td>\n",
       "      <td>319592.14</td>\n",
       "      <td>728647.20</td>\n",
       "      <td>3836.6948</td>\n",
       "      <td>12.6423</td>\n",
       "    </tr>\n",
       "    <tr>\n",
       "      <th>201912</th>\n",
       "      <td>0.028641</td>\n",
       "      <td>0.010581</td>\n",
       "      <td>0.048485</td>\n",
       "      <td>0.043472</td>\n",
       "      <td>-0.025027</td>\n",
       "      <td>-0.019830</td>\n",
       "      <td>0.025446</td>\n",
       "      <td>-0.039548</td>\n",
       "      <td>0.003209</td>\n",
       "      <td>-0.003065</td>\n",
       "      <td>...</td>\n",
       "      <td>119.073</td>\n",
       "      <td>25.07</td>\n",
       "      <td>28.88</td>\n",
       "      <td>22.44</td>\n",
       "      <td>99.3</td>\n",
       "      <td>16976.1</td>\n",
       "      <td>321479.31</td>\n",
       "      <td>729108.60</td>\n",
       "      <td>3833.3025</td>\n",
       "      <td>13.3469</td>\n",
       "    </tr>\n",
       "  </tbody>\n",
       "</table>\n",
       "<p>396 rows × 166 columns</p>\n",
       "</div>"
      ],
      "text/plain": [
       "         Beta60M  AccrualRatioCF  AnnVol12M  AnnVol1M  AstAdjChg1YFCF  \\\n",
       "month                                                                   \n",
       "198701  0.056337        0.001591   0.060995  0.039056        0.014636   \n",
       "198702  0.042464        0.001591   0.049927  0.015163        0.011712   \n",
       "198703  0.002173        0.001591   0.043896  0.023588        0.037978   \n",
       "198704  0.028176        0.001591   0.022187  0.036322        0.026684   \n",
       "198705 -0.007836        0.001591   0.013500  0.010374        0.004581   \n",
       "...          ...             ...        ...       ...             ...   \n",
       "201908 -0.103519        0.021188  -0.113502 -0.081400       -0.011808   \n",
       "201909  0.043274        0.003798   0.026859  0.036783       -0.022247   \n",
       "201910  0.027143       -0.025608   0.019069  0.003107       -0.004311   \n",
       "201911  0.059254       -0.021909   0.055230  0.039117       -0.009215   \n",
       "201912  0.028641        0.010581   0.048485  0.043472       -0.025027   \n",
       "\n",
       "        AstAdjChg1YOCF        BP  CapAcqRatio  CashCycle    CFROIC  ...  \\\n",
       "month                                                               ...   \n",
       "198701        0.000931 -0.026221     0.024939  -0.054107  0.004314  ...   \n",
       "198702        0.000931 -0.015425     0.025917  -0.034943  0.004314  ...   \n",
       "198703        0.000931  0.020609     0.012059   0.024595  0.004314  ...   \n",
       "198704        0.000931  0.017374     0.034101  -0.027120  0.004314  ...   \n",
       "198705        0.000931  0.014158     0.033546   0.001235  0.004314  ...   \n",
       "...                ...       ...          ...        ...       ...  ...   \n",
       "201908       -0.000178 -0.066748     0.002678  -0.006517 -0.012816  ...   \n",
       "201909       -0.027743  0.063228    -0.014819  -0.023947 -0.018980  ...   \n",
       "201910       -0.006812 -0.024341     0.013169  -0.014260  0.017936  ...   \n",
       "201911       -0.015428 -0.001510     0.036827   0.004092  0.014436  ...   \n",
       "201912       -0.019830  0.025446    -0.039548   0.003209 -0.003065  ...   \n",
       "\n",
       "        DSERRG3M086SBEA  CES0600000008  CES2000000008  CES3000000008  \\\n",
       "month                                                                  \n",
       "198701           47.011          10.29          12.03           9.67   \n",
       "198702           47.077          10.29          11.99           9.69   \n",
       "198703           47.196          10.33          12.12           9.71   \n",
       "198704           47.391          10.33          12.10           9.71   \n",
       "198705           47.528          10.36          12.14           9.73   \n",
       "...                 ...            ...            ...            ...   \n",
       "201908          118.174          24.83          28.58          22.22   \n",
       "201909          118.324          24.90          28.63          22.26   \n",
       "201910          118.563          24.95          28.68          22.30   \n",
       "201911          118.707          24.98          28.72          22.39   \n",
       "201912          119.073          25.07          28.88          22.44   \n",
       "\n",
       "        UMCSENTx    MZMSL  DTCOLNVHFNM   DTCTHFNM     INVEST  VXOCLSx  \n",
       "month                                                                  \n",
       "198701      90.4   1977.7     91854.00  143101.22   499.6617  20.7666  \n",
       "198702      90.2   1986.1     90918.00  142077.83   500.8418  23.4463  \n",
       "198703      90.8   1995.7     91405.00  142083.71   502.8252  21.8372  \n",
       "198704      92.8   2011.8     92433.00  143609.70   508.0058  26.8814  \n",
       "198705      91.1   2016.2     93028.00  144035.46   512.0438  25.4115  \n",
       "...          ...      ...          ...        ...        ...      ...  \n",
       "201908      89.8  16453.3    318844.23  729983.12  3725.4861  21.0968  \n",
       "201909      93.2  16580.4    318925.57  727830.98  3788.7224  16.3081  \n",
       "201910      95.5  16756.8    319634.33  728678.29  3799.6553  15.9863  \n",
       "201911      96.8  16901.3    319592.14  728647.20  3836.6948  12.6423  \n",
       "201912      99.3  16976.1    321479.31  729108.60  3833.3025  13.3469  \n",
       "\n",
       "[396 rows x 166 columns]"
      ]
     },
     "execution_count": 3,
     "metadata": {},
     "output_type": "execute_result"
    }
   ],
   "source": [
    "data"
   ]
  },
  {
   "cell_type": "code",
   "execution_count": 4,
   "metadata": {},
   "outputs": [],
   "source": [
    "#Prepare the data by splitting the train and test sets\n",
    "\n",
    "# train set: ~ 200706\n",
    "# test set: 201001 ~\n",
    "train = data.loc[:'200706']\n",
    "test = data.loc['201001':]"
   ]
  },
  {
   "cell_type": "markdown",
   "metadata": {},
   "source": [
    "## Valuation: Book to Price (BP)"
   ]
  },
  {
   "cell_type": "code",
   "execution_count": 5,
   "metadata": {},
   "outputs": [
    {
     "name": "stderr",
     "output_type": "stream",
     "text": [
      "<ipython-input-5-c1d7d245ea5f>:7: SettingWithCopyWarning: \n",
      "A value is trying to be set on a copy of a slice from a DataFrame.\n",
      "Try using .loc[row_indexer,col_indexer] = value instead\n",
      "\n",
      "See the caveats in the documentation: https://pandas.pydata.org/pandas-docs/stable/user_guide/indexing.html#returning-a-view-versus-a-copy\n",
      "  x_train[i] = (x_train[i]-x_train[i].mean())/x_train[i].std()\n",
      "<ipython-input-5-c1d7d245ea5f>:10: SettingWithCopyWarning: \n",
      "A value is trying to be set on a copy of a slice from a DataFrame.\n",
      "Try using .loc[row_indexer,col_indexer] = value instead\n",
      "\n",
      "See the caveats in the documentation: https://pandas.pydata.org/pandas-docs/stable/user_guide/indexing.html#returning-a-view-versus-a-copy\n",
      "  x_test[i] = (x_test[i]-x_test[i].mean())/x_test[i].std()\n"
     ]
    },
    {
     "data": {
      "text/html": [
       "<div>\n",
       "<style scoped>\n",
       "    .dataframe tbody tr th:only-of-type {\n",
       "        vertical-align: middle;\n",
       "    }\n",
       "\n",
       "    .dataframe tbody tr th {\n",
       "        vertical-align: top;\n",
       "    }\n",
       "\n",
       "    .dataframe thead th {\n",
       "        text-align: right;\n",
       "    }\n",
       "</style>\n",
       "<table border=\"1\" class=\"dataframe\">\n",
       "  <thead>\n",
       "    <tr style=\"text-align: right;\">\n",
       "      <th></th>\n",
       "      <th>RPI</th>\n",
       "      <th>W875RX1</th>\n",
       "      <th>DPCERA3M086SBEA</th>\n",
       "      <th>CMRMTSPLx</th>\n",
       "      <th>RETAILx</th>\n",
       "      <th>INDPRO</th>\n",
       "      <th>IPFPNSS</th>\n",
       "      <th>IPFINAL</th>\n",
       "      <th>IPCONGD</th>\n",
       "      <th>IPDCONGD</th>\n",
       "      <th>...</th>\n",
       "      <th>DSERRG3M086SBEA</th>\n",
       "      <th>CES0600000008</th>\n",
       "      <th>CES2000000008</th>\n",
       "      <th>CES3000000008</th>\n",
       "      <th>UMCSENTx</th>\n",
       "      <th>MZMSL</th>\n",
       "      <th>DTCOLNVHFNM</th>\n",
       "      <th>DTCTHFNM</th>\n",
       "      <th>INVEST</th>\n",
       "      <th>VXOCLSx</th>\n",
       "    </tr>\n",
       "    <tr>\n",
       "      <th>month</th>\n",
       "      <th></th>\n",
       "      <th></th>\n",
       "      <th></th>\n",
       "      <th></th>\n",
       "      <th></th>\n",
       "      <th></th>\n",
       "      <th></th>\n",
       "      <th></th>\n",
       "      <th></th>\n",
       "      <th></th>\n",
       "      <th></th>\n",
       "      <th></th>\n",
       "      <th></th>\n",
       "      <th></th>\n",
       "      <th></th>\n",
       "      <th></th>\n",
       "      <th></th>\n",
       "      <th></th>\n",
       "      <th></th>\n",
       "      <th></th>\n",
       "      <th></th>\n",
       "    </tr>\n",
       "  </thead>\n",
       "  <tbody>\n",
       "    <tr>\n",
       "      <th>198701</th>\n",
       "      <td>-1.483032</td>\n",
       "      <td>-1.466023</td>\n",
       "      <td>-1.473455</td>\n",
       "      <td>-1.527455</td>\n",
       "      <td>-1.549729</td>\n",
       "      <td>-1.573904</td>\n",
       "      <td>-1.620058</td>\n",
       "      <td>-1.632626</td>\n",
       "      <td>-1.712428</td>\n",
       "      <td>-1.421667</td>\n",
       "      <td>...</td>\n",
       "      <td>-1.754856</td>\n",
       "      <td>-1.522651</td>\n",
       "      <td>-1.535673</td>\n",
       "      <td>-1.572736</td>\n",
       "      <td>-0.126113</td>\n",
       "      <td>-1.150968</td>\n",
       "      <td>-0.582946</td>\n",
       "      <td>-1.118557</td>\n",
       "      <td>-1.302656</td>\n",
       "      <td>0.064037</td>\n",
       "    </tr>\n",
       "    <tr>\n",
       "      <th>198702</th>\n",
       "      <td>-1.470061</td>\n",
       "      <td>-1.451506</td>\n",
       "      <td>-1.409817</td>\n",
       "      <td>-1.402100</td>\n",
       "      <td>-1.462275</td>\n",
       "      <td>-1.522314</td>\n",
       "      <td>-1.556615</td>\n",
       "      <td>-1.566872</td>\n",
       "      <td>-1.627745</td>\n",
       "      <td>-1.369662</td>\n",
       "      <td>...</td>\n",
       "      <td>-1.749262</td>\n",
       "      <td>-1.522651</td>\n",
       "      <td>-1.551287</td>\n",
       "      <td>-1.563862</td>\n",
       "      <td>-0.146984</td>\n",
       "      <td>-1.146223</td>\n",
       "      <td>-0.595187</td>\n",
       "      <td>-1.123170</td>\n",
       "      <td>-1.300005</td>\n",
       "      <td>0.423912</td>\n",
       "    </tr>\n",
       "    <tr>\n",
       "      <th>198703</th>\n",
       "      <td>-1.460119</td>\n",
       "      <td>-1.438861</td>\n",
       "      <td>-1.405740</td>\n",
       "      <td>-1.398645</td>\n",
       "      <td>-1.449773</td>\n",
       "      <td>-1.517113</td>\n",
       "      <td>-1.551123</td>\n",
       "      <td>-1.563707</td>\n",
       "      <td>-1.613859</td>\n",
       "      <td>-1.386530</td>\n",
       "      <td>...</td>\n",
       "      <td>-1.739177</td>\n",
       "      <td>-1.506346</td>\n",
       "      <td>-1.500539</td>\n",
       "      <td>-1.554988</td>\n",
       "      <td>-0.084373</td>\n",
       "      <td>-1.140801</td>\n",
       "      <td>-0.588818</td>\n",
       "      <td>-1.123144</td>\n",
       "      <td>-1.295549</td>\n",
       "      <td>0.207815</td>\n",
       "    </tr>\n",
       "    <tr>\n",
       "      <th>198704</th>\n",
       "      <td>-1.461863</td>\n",
       "      <td>-1.439958</td>\n",
       "      <td>-1.389572</td>\n",
       "      <td>-1.408992</td>\n",
       "      <td>-1.434579</td>\n",
       "      <td>-1.491888</td>\n",
       "      <td>-1.534867</td>\n",
       "      <td>-1.556358</td>\n",
       "      <td>-1.623111</td>\n",
       "      <td>-1.406810</td>\n",
       "      <td>...</td>\n",
       "      <td>-1.722650</td>\n",
       "      <td>-1.506346</td>\n",
       "      <td>-1.508347</td>\n",
       "      <td>-1.554988</td>\n",
       "      <td>0.124332</td>\n",
       "      <td>-1.131707</td>\n",
       "      <td>-0.575374</td>\n",
       "      <td>-1.116265</td>\n",
       "      <td>-1.283911</td>\n",
       "      <td>0.885236</td>\n",
       "    </tr>\n",
       "    <tr>\n",
       "      <th>198705</th>\n",
       "      <td>-1.438482</td>\n",
       "      <td>-1.418215</td>\n",
       "      <td>-1.387430</td>\n",
       "      <td>-1.414989</td>\n",
       "      <td>-1.434917</td>\n",
       "      <td>-1.465905</td>\n",
       "      <td>-1.497922</td>\n",
       "      <td>-1.523929</td>\n",
       "      <td>-1.573117</td>\n",
       "      <td>-1.387068</td>\n",
       "      <td>...</td>\n",
       "      <td>-1.711040</td>\n",
       "      <td>-1.494117</td>\n",
       "      <td>-1.492732</td>\n",
       "      <td>-1.546114</td>\n",
       "      <td>-0.053067</td>\n",
       "      <td>-1.129221</td>\n",
       "      <td>-0.567592</td>\n",
       "      <td>-1.114345</td>\n",
       "      <td>-1.274840</td>\n",
       "      <td>0.687833</td>\n",
       "    </tr>\n",
       "    <tr>\n",
       "      <th>...</th>\n",
       "      <td>...</td>\n",
       "      <td>...</td>\n",
       "      <td>...</td>\n",
       "      <td>...</td>\n",
       "      <td>...</td>\n",
       "      <td>...</td>\n",
       "      <td>...</td>\n",
       "      <td>...</td>\n",
       "      <td>...</td>\n",
       "      <td>...</td>\n",
       "      <td>...</td>\n",
       "      <td>...</td>\n",
       "      <td>...</td>\n",
       "      <td>...</td>\n",
       "      <td>...</td>\n",
       "      <td>...</td>\n",
       "      <td>...</td>\n",
       "      <td>...</td>\n",
       "      <td>...</td>\n",
       "      <td>...</td>\n",
       "      <td>...</td>\n",
       "    </tr>\n",
       "    <tr>\n",
       "      <th>200702</th>\n",
       "      <td>1.838917</td>\n",
       "      <td>1.809712</td>\n",
       "      <td>1.806060</td>\n",
       "      <td>1.707434</td>\n",
       "      <td>1.857378</td>\n",
       "      <td>1.558940</td>\n",
       "      <td>1.596587</td>\n",
       "      <td>1.638053</td>\n",
       "      <td>1.503991</td>\n",
       "      <td>1.167317</td>\n",
       "      <td>...</td>\n",
       "      <td>1.851198</td>\n",
       "      <td>1.779088</td>\n",
       "      <td>1.805884</td>\n",
       "      <td>1.701694</td>\n",
       "      <td>-0.032196</td>\n",
       "      <td>1.836834</td>\n",
       "      <td>1.609851</td>\n",
       "      <td>1.969883</td>\n",
       "      <td>2.089471</td>\n",
       "      <td>-1.258265</td>\n",
       "    </tr>\n",
       "    <tr>\n",
       "      <th>200703</th>\n",
       "      <td>1.866885</td>\n",
       "      <td>1.843003</td>\n",
       "      <td>1.809101</td>\n",
       "      <td>1.715853</td>\n",
       "      <td>1.902079</td>\n",
       "      <td>1.574365</td>\n",
       "      <td>1.603300</td>\n",
       "      <td>1.628491</td>\n",
       "      <td>1.425897</td>\n",
       "      <td>1.196168</td>\n",
       "      <td>...</td>\n",
       "      <td>1.868403</td>\n",
       "      <td>1.811698</td>\n",
       "      <td>1.841017</td>\n",
       "      <td>1.723879</td>\n",
       "      <td>-0.334818</td>\n",
       "      <td>1.868748</td>\n",
       "      <td>1.649809</td>\n",
       "      <td>1.982895</td>\n",
       "      <td>2.107133</td>\n",
       "      <td>-0.720969</td>\n",
       "    </tr>\n",
       "    <tr>\n",
       "      <th>200704</th>\n",
       "      <td>1.868808</td>\n",
       "      <td>1.853584</td>\n",
       "      <td>1.816218</td>\n",
       "      <td>1.704269</td>\n",
       "      <td>1.888308</td>\n",
       "      <td>1.624206</td>\n",
       "      <td>1.655908</td>\n",
       "      <td>1.687985</td>\n",
       "      <td>1.477235</td>\n",
       "      <td>1.292791</td>\n",
       "      <td>...</td>\n",
       "      <td>1.884166</td>\n",
       "      <td>1.852460</td>\n",
       "      <td>1.880054</td>\n",
       "      <td>1.768248</td>\n",
       "      <td>-0.470476</td>\n",
       "      <td>1.922012</td>\n",
       "      <td>1.654937</td>\n",
       "      <td>2.012796</td>\n",
       "      <td>2.127036</td>\n",
       "      <td>-1.080254</td>\n",
       "    </tr>\n",
       "    <tr>\n",
       "      <th>200705</th>\n",
       "      <td>1.865109</td>\n",
       "      <td>1.850810</td>\n",
       "      <td>1.822298</td>\n",
       "      <td>1.749145</td>\n",
       "      <td>1.955629</td>\n",
       "      <td>1.627678</td>\n",
       "      <td>1.639927</td>\n",
       "      <td>1.677579</td>\n",
       "      <td>1.441135</td>\n",
       "      <td>1.261164</td>\n",
       "      <td>...</td>\n",
       "      <td>1.896879</td>\n",
       "      <td>1.880994</td>\n",
       "      <td>1.930802</td>\n",
       "      <td>1.781559</td>\n",
       "      <td>-0.345253</td>\n",
       "      <td>1.949068</td>\n",
       "      <td>1.671762</td>\n",
       "      <td>2.043699</td>\n",
       "      <td>2.119814</td>\n",
       "      <td>-0.983694</td>\n",
       "    </tr>\n",
       "    <tr>\n",
       "      <th>200706</th>\n",
       "      <td>1.856068</td>\n",
       "      <td>1.841068</td>\n",
       "      <td>1.819327</td>\n",
       "      <td>1.741467</td>\n",
       "      <td>1.916204</td>\n",
       "      <td>1.629694</td>\n",
       "      <td>1.650706</td>\n",
       "      <td>1.700295</td>\n",
       "      <td>1.451478</td>\n",
       "      <td>1.324901</td>\n",
       "      <td>...</td>\n",
       "      <td>1.918321</td>\n",
       "      <td>1.901375</td>\n",
       "      <td>1.946417</td>\n",
       "      <td>1.808180</td>\n",
       "      <td>-0.658310</td>\n",
       "      <td>1.985162</td>\n",
       "      <td>1.681301</td>\n",
       "      <td>2.081521</td>\n",
       "      <td>2.145980</td>\n",
       "      <td>-0.726261</td>\n",
       "    </tr>\n",
       "  </tbody>\n",
       "</table>\n",
       "<p>246 rows × 128 columns</p>\n",
       "</div>"
      ],
      "text/plain": [
       "             RPI   W875RX1  DPCERA3M086SBEA  CMRMTSPLx   RETAILx    INDPRO  \\\n",
       "month                                                                        \n",
       "198701 -1.483032 -1.466023        -1.473455  -1.527455 -1.549729 -1.573904   \n",
       "198702 -1.470061 -1.451506        -1.409817  -1.402100 -1.462275 -1.522314   \n",
       "198703 -1.460119 -1.438861        -1.405740  -1.398645 -1.449773 -1.517113   \n",
       "198704 -1.461863 -1.439958        -1.389572  -1.408992 -1.434579 -1.491888   \n",
       "198705 -1.438482 -1.418215        -1.387430  -1.414989 -1.434917 -1.465905   \n",
       "...          ...       ...              ...        ...       ...       ...   \n",
       "200702  1.838917  1.809712         1.806060   1.707434  1.857378  1.558940   \n",
       "200703  1.866885  1.843003         1.809101   1.715853  1.902079  1.574365   \n",
       "200704  1.868808  1.853584         1.816218   1.704269  1.888308  1.624206   \n",
       "200705  1.865109  1.850810         1.822298   1.749145  1.955629  1.627678   \n",
       "200706  1.856068  1.841068         1.819327   1.741467  1.916204  1.629694   \n",
       "\n",
       "         IPFPNSS   IPFINAL   IPCONGD  IPDCONGD  ...  DSERRG3M086SBEA  \\\n",
       "month                                           ...                    \n",
       "198701 -1.620058 -1.632626 -1.712428 -1.421667  ...        -1.754856   \n",
       "198702 -1.556615 -1.566872 -1.627745 -1.369662  ...        -1.749262   \n",
       "198703 -1.551123 -1.563707 -1.613859 -1.386530  ...        -1.739177   \n",
       "198704 -1.534867 -1.556358 -1.623111 -1.406810  ...        -1.722650   \n",
       "198705 -1.497922 -1.523929 -1.573117 -1.387068  ...        -1.711040   \n",
       "...          ...       ...       ...       ...  ...              ...   \n",
       "200702  1.596587  1.638053  1.503991  1.167317  ...         1.851198   \n",
       "200703  1.603300  1.628491  1.425897  1.196168  ...         1.868403   \n",
       "200704  1.655908  1.687985  1.477235  1.292791  ...         1.884166   \n",
       "200705  1.639927  1.677579  1.441135  1.261164  ...         1.896879   \n",
       "200706  1.650706  1.700295  1.451478  1.324901  ...         1.918321   \n",
       "\n",
       "        CES0600000008  CES2000000008  CES3000000008  UMCSENTx     MZMSL  \\\n",
       "month                                                                     \n",
       "198701      -1.522651      -1.535673      -1.572736 -0.126113 -1.150968   \n",
       "198702      -1.522651      -1.551287      -1.563862 -0.146984 -1.146223   \n",
       "198703      -1.506346      -1.500539      -1.554988 -0.084373 -1.140801   \n",
       "198704      -1.506346      -1.508347      -1.554988  0.124332 -1.131707   \n",
       "198705      -1.494117      -1.492732      -1.546114 -0.053067 -1.129221   \n",
       "...               ...            ...            ...       ...       ...   \n",
       "200702       1.779088       1.805884       1.701694 -0.032196  1.836834   \n",
       "200703       1.811698       1.841017       1.723879 -0.334818  1.868748   \n",
       "200704       1.852460       1.880054       1.768248 -0.470476  1.922012   \n",
       "200705       1.880994       1.930802       1.781559 -0.345253  1.949068   \n",
       "200706       1.901375       1.946417       1.808180 -0.658310  1.985162   \n",
       "\n",
       "        DTCOLNVHFNM  DTCTHFNM    INVEST   VXOCLSx  \n",
       "month                                              \n",
       "198701    -0.582946 -1.118557 -1.302656  0.064037  \n",
       "198702    -0.595187 -1.123170 -1.300005  0.423912  \n",
       "198703    -0.588818 -1.123144 -1.295549  0.207815  \n",
       "198704    -0.575374 -1.116265 -1.283911  0.885236  \n",
       "198705    -0.567592 -1.114345 -1.274840  0.687833  \n",
       "...             ...       ...       ...       ...  \n",
       "200702     1.609851  1.969883  2.089471 -1.258265  \n",
       "200703     1.649809  1.982895  2.107133 -0.720969  \n",
       "200704     1.654937  2.012796  2.127036 -1.080254  \n",
       "200705     1.671762  2.043699  2.119814 -0.983694  \n",
       "200706     1.681301  2.081521  2.145980 -0.726261  \n",
       "\n",
       "[246 rows x 128 columns]"
      ]
     },
     "execution_count": 5,
     "metadata": {},
     "output_type": "execute_result"
    },
    {
     "data": {
      "text/html": [
       "<div>\n",
       "<style scoped>\n",
       "    .dataframe tbody tr th:only-of-type {\n",
       "        vertical-align: middle;\n",
       "    }\n",
       "\n",
       "    .dataframe tbody tr th {\n",
       "        vertical-align: top;\n",
       "    }\n",
       "\n",
       "    .dataframe thead th {\n",
       "        text-align: right;\n",
       "    }\n",
       "</style>\n",
       "<table border=\"1\" class=\"dataframe\">\n",
       "  <thead>\n",
       "    <tr style=\"text-align: right;\">\n",
       "      <th></th>\n",
       "      <th>RPI</th>\n",
       "      <th>W875RX1</th>\n",
       "      <th>DPCERA3M086SBEA</th>\n",
       "      <th>CMRMTSPLx</th>\n",
       "      <th>RETAILx</th>\n",
       "      <th>INDPRO</th>\n",
       "      <th>IPFPNSS</th>\n",
       "      <th>IPFINAL</th>\n",
       "      <th>IPCONGD</th>\n",
       "      <th>IPDCONGD</th>\n",
       "      <th>...</th>\n",
       "      <th>DSERRG3M086SBEA</th>\n",
       "      <th>CES0600000008</th>\n",
       "      <th>CES2000000008</th>\n",
       "      <th>CES3000000008</th>\n",
       "      <th>UMCSENTx</th>\n",
       "      <th>MZMSL</th>\n",
       "      <th>DTCOLNVHFNM</th>\n",
       "      <th>DTCTHFNM</th>\n",
       "      <th>INVEST</th>\n",
       "      <th>VXOCLSx</th>\n",
       "    </tr>\n",
       "    <tr>\n",
       "      <th>month</th>\n",
       "      <th></th>\n",
       "      <th></th>\n",
       "      <th></th>\n",
       "      <th></th>\n",
       "      <th></th>\n",
       "      <th></th>\n",
       "      <th></th>\n",
       "      <th></th>\n",
       "      <th></th>\n",
       "      <th></th>\n",
       "      <th></th>\n",
       "      <th></th>\n",
       "      <th></th>\n",
       "      <th></th>\n",
       "      <th></th>\n",
       "      <th></th>\n",
       "      <th></th>\n",
       "      <th></th>\n",
       "      <th></th>\n",
       "      <th></th>\n",
       "      <th></th>\n",
       "    </tr>\n",
       "  </thead>\n",
       "  <tbody>\n",
       "    <tr>\n",
       "      <th>201001</th>\n",
       "      <td>-1.692292</td>\n",
       "      <td>-1.790369</td>\n",
       "      <td>-1.505626</td>\n",
       "      <td>-2.034439</td>\n",
       "      <td>-1.888722</td>\n",
       "      <td>-2.374328</td>\n",
       "      <td>-2.418735</td>\n",
       "      <td>-2.454432</td>\n",
       "      <td>-1.036252</td>\n",
       "      <td>-1.819316</td>\n",
       "      <td>...</td>\n",
       "      <td>-1.547666</td>\n",
       "      <td>-1.424120</td>\n",
       "      <td>-1.359387</td>\n",
       "      <td>-1.418524</td>\n",
       "      <td>-0.984944</td>\n",
       "      <td>-1.577767</td>\n",
       "      <td>-3.177685</td>\n",
       "      <td>-1.070452</td>\n",
       "      <td>-1.518634</td>\n",
       "      <td>0.644143</td>\n",
       "    </tr>\n",
       "    <tr>\n",
       "      <th>201002</th>\n",
       "      <td>-1.698625</td>\n",
       "      <td>-1.806351</td>\n",
       "      <td>-1.469305</td>\n",
       "      <td>-1.958199</td>\n",
       "      <td>-1.876600</td>\n",
       "      <td>-2.303417</td>\n",
       "      <td>-2.577564</td>\n",
       "      <td>-2.701861</td>\n",
       "      <td>-1.427437</td>\n",
       "      <td>-1.978786</td>\n",
       "      <td>...</td>\n",
       "      <td>-1.533685</td>\n",
       "      <td>-1.402948</td>\n",
       "      <td>-1.330401</td>\n",
       "      <td>-1.383180</td>\n",
       "      <td>-1.055952</td>\n",
       "      <td>-1.573636</td>\n",
       "      <td>-3.337997</td>\n",
       "      <td>-1.204868</td>\n",
       "      <td>-1.509475</td>\n",
       "      <td>0.945644</td>\n",
       "    </tr>\n",
       "    <tr>\n",
       "      <th>201003</th>\n",
       "      <td>-1.665609</td>\n",
       "      <td>-1.775501</td>\n",
       "      <td>-1.414322</td>\n",
       "      <td>-1.810828</td>\n",
       "      <td>-1.718064</td>\n",
       "      <td>-2.173272</td>\n",
       "      <td>-2.323246</td>\n",
       "      <td>-2.368639</td>\n",
       "      <td>-1.315735</td>\n",
       "      <td>-1.863207</td>\n",
       "      <td>...</td>\n",
       "      <td>-1.505725</td>\n",
       "      <td>-1.388833</td>\n",
       "      <td>-1.313010</td>\n",
       "      <td>-1.383180</td>\n",
       "      <td>-1.055952</td>\n",
       "      <td>-1.599285</td>\n",
       "      <td>-1.675981</td>\n",
       "      <td>-1.347812</td>\n",
       "      <td>-1.533833</td>\n",
       "      <td>0.099909</td>\n",
       "    </tr>\n",
       "    <tr>\n",
       "      <th>201004</th>\n",
       "      <td>-1.580017</td>\n",
       "      <td>-1.674310</td>\n",
       "      <td>-1.390901</td>\n",
       "      <td>-1.705564</td>\n",
       "      <td>-1.664104</td>\n",
       "      <td>-2.099244</td>\n",
       "      <td>-2.218784</td>\n",
       "      <td>-2.413216</td>\n",
       "      <td>-1.656819</td>\n",
       "      <td>-1.818992</td>\n",
       "      <td>...</td>\n",
       "      <td>-1.486181</td>\n",
       "      <td>-1.360604</td>\n",
       "      <td>-1.341996</td>\n",
       "      <td>-1.347837</td>\n",
       "      <td>-1.180216</td>\n",
       "      <td>-1.615084</td>\n",
       "      <td>-1.742566</td>\n",
       "      <td>-1.427639</td>\n",
       "      <td>-1.539572</td>\n",
       "      <td>-0.043118</td>\n",
       "    </tr>\n",
       "    <tr>\n",
       "      <th>201005</th>\n",
       "      <td>-1.491499</td>\n",
       "      <td>-1.573955</td>\n",
       "      <td>-1.371863</td>\n",
       "      <td>-1.742743</td>\n",
       "      <td>-1.730084</td>\n",
       "      <td>-1.807668</td>\n",
       "      <td>-1.669642</td>\n",
       "      <td>-1.680395</td>\n",
       "      <td>-0.804178</td>\n",
       "      <td>-1.488062</td>\n",
       "      <td>...</td>\n",
       "      <td>-1.463070</td>\n",
       "      <td>-1.339432</td>\n",
       "      <td>-1.318807</td>\n",
       "      <td>-1.285986</td>\n",
       "      <td>-1.055952</td>\n",
       "      <td>-1.602872</td>\n",
       "      <td>-1.845835</td>\n",
       "      <td>-1.512371</td>\n",
       "      <td>-1.567537</td>\n",
       "      <td>2.638842</td>\n",
       "    </tr>\n",
       "    <tr>\n",
       "      <th>...</th>\n",
       "      <td>...</td>\n",
       "      <td>...</td>\n",
       "      <td>...</td>\n",
       "      <td>...</td>\n",
       "      <td>...</td>\n",
       "      <td>...</td>\n",
       "      <td>...</td>\n",
       "      <td>...</td>\n",
       "      <td>...</td>\n",
       "      <td>...</td>\n",
       "      <td>...</td>\n",
       "      <td>...</td>\n",
       "      <td>...</td>\n",
       "      <td>...</td>\n",
       "      <td>...</td>\n",
       "      <td>...</td>\n",
       "      <td>...</td>\n",
       "      <td>...</td>\n",
       "      <td>...</td>\n",
       "      <td>...</td>\n",
       "      <td>...</td>\n",
       "    </tr>\n",
       "    <tr>\n",
       "      <th>201908</th>\n",
       "      <td>1.595824</td>\n",
       "      <td>1.553680</td>\n",
       "      <td>1.700293</td>\n",
       "      <td>1.599800</td>\n",
       "      <td>1.726697</td>\n",
       "      <td>1.536730</td>\n",
       "      <td>1.415868</td>\n",
       "      <td>1.375246</td>\n",
       "      <td>1.288730</td>\n",
       "      <td>1.210949</td>\n",
       "      <td>...</td>\n",
       "      <td>1.717471</td>\n",
       "      <td>1.921077</td>\n",
       "      <td>1.858040</td>\n",
       "      <td>1.930267</td>\n",
       "      <td>0.381965</td>\n",
       "      <td>1.582864</td>\n",
       "      <td>0.787446</td>\n",
       "      <td>-0.782577</td>\n",
       "      <td>1.762813</td>\n",
       "      <td>0.873648</td>\n",
       "    </tr>\n",
       "    <tr>\n",
       "      <th>201909</th>\n",
       "      <td>1.610398</td>\n",
       "      <td>1.567432</td>\n",
       "      <td>1.716325</td>\n",
       "      <td>1.591188</td>\n",
       "      <td>1.680359</td>\n",
       "      <td>1.454639</td>\n",
       "      <td>1.182650</td>\n",
       "      <td>1.017083</td>\n",
       "      <td>0.954947</td>\n",
       "      <td>0.858353</td>\n",
       "      <td>...</td>\n",
       "      <td>1.738869</td>\n",
       "      <td>1.970479</td>\n",
       "      <td>1.887026</td>\n",
       "      <td>1.965611</td>\n",
       "      <td>0.683750</td>\n",
       "      <td>1.640565</td>\n",
       "      <td>0.790792</td>\n",
       "      <td>-0.815168</td>\n",
       "      <td>1.910879</td>\n",
       "      <td>0.002368</td>\n",
       "    </tr>\n",
       "    <tr>\n",
       "      <th>201910</th>\n",
       "      <td>1.619874</td>\n",
       "      <td>1.577003</td>\n",
       "      <td>1.744380</td>\n",
       "      <td>1.531955</td>\n",
       "      <td>1.732900</td>\n",
       "      <td>1.358852</td>\n",
       "      <td>1.074030</td>\n",
       "      <td>0.894275</td>\n",
       "      <td>0.924877</td>\n",
       "      <td>0.524819</td>\n",
       "      <td>...</td>\n",
       "      <td>1.772964</td>\n",
       "      <td>2.005766</td>\n",
       "      <td>1.916012</td>\n",
       "      <td>2.000954</td>\n",
       "      <td>0.887899</td>\n",
       "      <td>1.720646</td>\n",
       "      <td>0.819946</td>\n",
       "      <td>-0.802337</td>\n",
       "      <td>1.936478</td>\n",
       "      <td>-0.056182</td>\n",
       "    </tr>\n",
       "    <tr>\n",
       "      <th>201911</th>\n",
       "      <td>1.679079</td>\n",
       "      <td>1.645672</td>\n",
       "      <td>1.758032</td>\n",
       "      <td>1.609688</td>\n",
       "      <td>1.736164</td>\n",
       "      <td>1.576399</td>\n",
       "      <td>1.627254</td>\n",
       "      <td>1.708157</td>\n",
       "      <td>1.861294</td>\n",
       "      <td>1.244554</td>\n",
       "      <td>...</td>\n",
       "      <td>1.793507</td>\n",
       "      <td>2.026938</td>\n",
       "      <td>1.939201</td>\n",
       "      <td>2.080477</td>\n",
       "      <td>1.003288</td>\n",
       "      <td>1.786246</td>\n",
       "      <td>0.818211</td>\n",
       "      <td>-0.802808</td>\n",
       "      <td>2.023205</td>\n",
       "      <td>-0.664606</td>\n",
       "    </tr>\n",
       "    <tr>\n",
       "      <th>201912</th>\n",
       "      <td>1.651952</td>\n",
       "      <td>1.622348</td>\n",
       "      <td>1.763042</td>\n",
       "      <td>1.596754</td>\n",
       "      <td>1.745346</td>\n",
       "      <td>1.493384</td>\n",
       "      <td>1.391957</td>\n",
       "      <td>1.319171</td>\n",
       "      <td>1.305248</td>\n",
       "      <td>0.921154</td>\n",
       "      <td>...</td>\n",
       "      <td>1.845719</td>\n",
       "      <td>2.090454</td>\n",
       "      <td>2.031955</td>\n",
       "      <td>2.124656</td>\n",
       "      <td>1.225188</td>\n",
       "      <td>1.820203</td>\n",
       "      <td>0.895839</td>\n",
       "      <td>-0.795820</td>\n",
       "      <td>2.015262</td>\n",
       "      <td>-0.536407</td>\n",
       "    </tr>\n",
       "  </tbody>\n",
       "</table>\n",
       "<p>120 rows × 128 columns</p>\n",
       "</div>"
      ],
      "text/plain": [
       "             RPI   W875RX1  DPCERA3M086SBEA  CMRMTSPLx   RETAILx    INDPRO  \\\n",
       "month                                                                        \n",
       "201001 -1.692292 -1.790369        -1.505626  -2.034439 -1.888722 -2.374328   \n",
       "201002 -1.698625 -1.806351        -1.469305  -1.958199 -1.876600 -2.303417   \n",
       "201003 -1.665609 -1.775501        -1.414322  -1.810828 -1.718064 -2.173272   \n",
       "201004 -1.580017 -1.674310        -1.390901  -1.705564 -1.664104 -2.099244   \n",
       "201005 -1.491499 -1.573955        -1.371863  -1.742743 -1.730084 -1.807668   \n",
       "...          ...       ...              ...        ...       ...       ...   \n",
       "201908  1.595824  1.553680         1.700293   1.599800  1.726697  1.536730   \n",
       "201909  1.610398  1.567432         1.716325   1.591188  1.680359  1.454639   \n",
       "201910  1.619874  1.577003         1.744380   1.531955  1.732900  1.358852   \n",
       "201911  1.679079  1.645672         1.758032   1.609688  1.736164  1.576399   \n",
       "201912  1.651952  1.622348         1.763042   1.596754  1.745346  1.493384   \n",
       "\n",
       "         IPFPNSS   IPFINAL   IPCONGD  IPDCONGD  ...  DSERRG3M086SBEA  \\\n",
       "month                                           ...                    \n",
       "201001 -2.418735 -2.454432 -1.036252 -1.819316  ...        -1.547666   \n",
       "201002 -2.577564 -2.701861 -1.427437 -1.978786  ...        -1.533685   \n",
       "201003 -2.323246 -2.368639 -1.315735 -1.863207  ...        -1.505725   \n",
       "201004 -2.218784 -2.413216 -1.656819 -1.818992  ...        -1.486181   \n",
       "201005 -1.669642 -1.680395 -0.804178 -1.488062  ...        -1.463070   \n",
       "...          ...       ...       ...       ...  ...              ...   \n",
       "201908  1.415868  1.375246  1.288730  1.210949  ...         1.717471   \n",
       "201909  1.182650  1.017083  0.954947  0.858353  ...         1.738869   \n",
       "201910  1.074030  0.894275  0.924877  0.524819  ...         1.772964   \n",
       "201911  1.627254  1.708157  1.861294  1.244554  ...         1.793507   \n",
       "201912  1.391957  1.319171  1.305248  0.921154  ...         1.845719   \n",
       "\n",
       "        CES0600000008  CES2000000008  CES3000000008  UMCSENTx     MZMSL  \\\n",
       "month                                                                     \n",
       "201001      -1.424120      -1.359387      -1.418524 -0.984944 -1.577767   \n",
       "201002      -1.402948      -1.330401      -1.383180 -1.055952 -1.573636   \n",
       "201003      -1.388833      -1.313010      -1.383180 -1.055952 -1.599285   \n",
       "201004      -1.360604      -1.341996      -1.347837 -1.180216 -1.615084   \n",
       "201005      -1.339432      -1.318807      -1.285986 -1.055952 -1.602872   \n",
       "...               ...            ...            ...       ...       ...   \n",
       "201908       1.921077       1.858040       1.930267  0.381965  1.582864   \n",
       "201909       1.970479       1.887026       1.965611  0.683750  1.640565   \n",
       "201910       2.005766       1.916012       2.000954  0.887899  1.720646   \n",
       "201911       2.026938       1.939201       2.080477  1.003288  1.786246   \n",
       "201912       2.090454       2.031955       2.124656  1.225188  1.820203   \n",
       "\n",
       "        DTCOLNVHFNM  DTCTHFNM    INVEST   VXOCLSx  \n",
       "month                                              \n",
       "201001    -3.177685 -1.070452 -1.518634  0.644143  \n",
       "201002    -3.337997 -1.204868 -1.509475  0.945644  \n",
       "201003    -1.675981 -1.347812 -1.533833  0.099909  \n",
       "201004    -1.742566 -1.427639 -1.539572 -0.043118  \n",
       "201005    -1.845835 -1.512371 -1.567537  2.638842  \n",
       "...             ...       ...       ...       ...  \n",
       "201908     0.787446 -0.782577  1.762813  0.873648  \n",
       "201909     0.790792 -0.815168  1.910879  0.002368  \n",
       "201910     0.819946 -0.802337  1.936478 -0.056182  \n",
       "201911     0.818211 -0.802808  2.023205 -0.664606  \n",
       "201912     0.895839 -0.795820  2.015262 -0.536407  \n",
       "\n",
       "[120 rows x 128 columns]"
      ]
     },
     "execution_count": 5,
     "metadata": {},
     "output_type": "execute_result"
    }
   ],
   "source": [
    "x_train = train.loc[:,'RPI':'VXOCLSx']\n",
    "x_test = test.loc[:,'RPI':'VXOCLSx']\n",
    "\n",
    "#We normalize the features to avoid any scale issues\n",
    "\n",
    "for i in x_train.columns:\n",
    "    x_train[i] = (x_train[i]-x_train[i].mean())/x_train[i].std()\n",
    "\n",
    "for i in x_test.columns:\n",
    "    x_test[i] = (x_test[i]-x_test[i].mean())/x_test[i].std()\n",
    "    \n",
    "    \n",
    "x_train\n",
    "x_test"
   ]
  },
  {
   "cell_type": "code",
   "execution_count": 6,
   "metadata": {},
   "outputs": [],
   "source": [
    "def sign(x):\n",
    "    if x >= 0:\n",
    "        return 1\n",
    "    else:\n",
    "        return 0"
   ]
  },
  {
   "cell_type": "code",
   "execution_count": 7,
   "metadata": {},
   "outputs": [
    {
     "data": {
      "text/plain": [
       "month\n",
       "198701    0\n",
       "198702    0\n",
       "198703    1\n",
       "198704    1\n",
       "198705    1\n",
       "         ..\n",
       "200702    1\n",
       "200703    0\n",
       "200704    0\n",
       "200705    0\n",
       "200706    0\n",
       "Name: BP, Length: 246, dtype: int64"
      ]
     },
     "execution_count": 7,
     "metadata": {},
     "output_type": "execute_result"
    },
    {
     "data": {
      "text/plain": [
       "month\n",
       "201001    1\n",
       "201002    0\n",
       "201003    1\n",
       "201004    1\n",
       "201005    0\n",
       "         ..\n",
       "201908    0\n",
       "201909    1\n",
       "201910    0\n",
       "201911    0\n",
       "201912    1\n",
       "Name: BP, Length: 120, dtype: int64"
      ]
     },
     "execution_count": 7,
     "metadata": {},
     "output_type": "execute_result"
    }
   ],
   "source": [
    "#we group the values and assign 1 to positive values, 0 to negative values\n",
    "BP_train = train['BP'].apply(sign)\n",
    "BP_test = test['BP'].apply(sign)\n",
    "\n",
    "BP_train\n",
    "BP_test"
   ]
  },
  {
   "cell_type": "code",
   "execution_count": 8,
   "metadata": {},
   "outputs": [],
   "source": [
    "def features(factor,y_train,y_test):\n",
    "    clf = linear_model.Lasso(alpha=0.01,fit_intercept=False,max_iter=1000000,random_state=0)\n",
    "    clf.fit(x_train,y_train)\n",
    "\n",
    "    param_grid = {'alpha': np.linspace(0.001,0.01,num=10)}\n",
    "    grid = GridSearchCV(clf, param_grid, cv=10)\n",
    "    grid.fit(x_train, y_train)\n",
    "    best_clf = grid.best_estimator_\n",
    "    best_clf.coef_\n",
    "    features = x_train.columns\n",
    "    features1=[]\n",
    "    for i in range(0,len(features)):\n",
    "        if best_clf.coef_[i] !=0:\n",
    "            features1.append(features[i])\n",
    "    return features1"
   ]
  },
  {
   "cell_type": "code",
   "execution_count": 9,
   "metadata": {},
   "outputs": [
    {
     "data": {
      "text/plain": [
       "['IPNMAT',\n",
       " 'UEMPLT5',\n",
       " 'UEMP15T26',\n",
       " 'AWHMAN',\n",
       " 'HOUSTMW',\n",
       " 'HOUSTS',\n",
       " 'PERMITNE',\n",
       " 'PERMITS',\n",
       " 'ACOGNO',\n",
       " 'TOTRESNS',\n",
       " 'S&P PE ratio',\n",
       " 'COMPAPFFx',\n",
       " 'BAAFFM',\n",
       " 'EXSZUSx',\n",
       " 'EXJPUSx',\n",
       " 'WPSID62',\n",
       " 'PPICMM']"
      ]
     },
     "execution_count": 9,
     "metadata": {},
     "output_type": "execute_result"
    }
   ],
   "source": [
    "#We select features that can be used for the value factor\n",
    "BP_features = features('BP',BP_train,BP_test)\n",
    "BP_features"
   ]
  },
  {
   "cell_type": "markdown",
   "metadata": {},
   "source": [
    "**We first use LDA to classify the signs of the factors**"
   ]
  },
  {
   "cell_type": "code",
   "execution_count": 10,
   "metadata": {},
   "outputs": [],
   "source": [
    "from sklearn.discriminant_analysis import LinearDiscriminantAnalysis\n",
    "from sklearn.discriminant_analysis import QuadraticDiscriminantAnalysis\n",
    "from sklearn.metrics import accuracy_score, recall_score, precision_score, f1_score\n",
    "from sklearn.metrics import confusion_matrix, classification_report\n",
    "from sklearn.metrics import roc_curve, auc, average_precision_score"
   ]
  },
  {
   "cell_type": "code",
   "execution_count": 11,
   "metadata": {},
   "outputs": [
    {
     "data": {
      "text/plain": [
       "1    58.536585\n",
       "0    41.463415\n",
       "Name: BP, dtype: float64"
      ]
     },
     "execution_count": 11,
     "metadata": {},
     "output_type": "execute_result"
    }
   ],
   "source": [
    "freq = BP_train.value_counts()           # count frequency of different classes in loan status\n",
    "freq/sum(freq)*100                      # get percentage of above"
   ]
  },
  {
   "cell_type": "code",
   "execution_count": 12,
   "metadata": {
    "scrolled": true
   },
   "outputs": [],
   "source": [
    "def lda(x_train,x_test,y_train,y_test):\n",
    "    lda = LinearDiscriminantAnalysis(solver='lsqr',shrinkage=None,priors=[0.4,0.6])                 # create an instance of LDA\n",
    "    lda.fit(x_train, y_train)                                                      # fit training data on LDA\n",
    "    print(lda.coef_) \n",
    "    print('The in-sample accuracy is ' + str(lda.score(x_train, y_train)))\n",
    "    print('The out-of-sample accuracy is ' + str(lda.score(x_test, y_test)))"
   ]
  },
  {
   "cell_type": "code",
   "execution_count": 13,
   "metadata": {},
   "outputs": [
    {
     "name": "stdout",
     "output_type": "stream",
     "text": [
      "[[-0.55099835  0.37789538  0.30695746 -0.0510063  -0.57279804  0.36344896\n",
      "   0.74284564  0.34400234 -0.66544117 -0.83440228 -0.86052125  0.30703764\n",
      "   0.01750773  0.32850677 -0.54279248  0.25509701 -0.38021538]]\n",
      "The in-sample accuracy is 0.7032520325203252\n",
      "The out-of-sample accuracy is 0.5166666666666667\n"
     ]
    }
   ],
   "source": [
    "lda(x_train[BP_features],x_test[BP_features],BP_train,BP_test)"
   ]
  },
  {
   "cell_type": "code",
   "execution_count": 14,
   "metadata": {},
   "outputs": [],
   "source": [
    "def lda_stats(x_train,x_test,y_train,y_test):\n",
    "    lda = LinearDiscriminantAnalysis(solver='lsqr',shrinkage=None,priors=[0.4,0.6])                 # create an instance of LDA\n",
    "    lda.fit(x_train, y_train)                                                      # fit training data on LDA\n",
    "    y_pred = lda.predict(x_test)\n",
    "    n_test = x_test.shape[0]\n",
    "    cm = (confusion_matrix(y_test,y_pred,labels=[1, 0],sample_weight=None)/n_test)*100\n",
    "    TP = cm[0][0]                                                                               # True Positives\n",
    "    FN = cm[0][1]                                                                               # False Positives\n",
    "    FP = cm[1][0]                                                                               # True Negatives\n",
    "    TN = cm[1][1]                                                                               # False Negatives\n",
    "    print('Accuracy Score = ',accuracy_score(y_test, y_pred))\n",
    "    print('Recall = ',recall_score(y_test, y_pred))\n",
    "    print('True Negative Rate = ',TN/(FP+TN))                                                              # True negative rate\n",
    "    print('False Positive Rate = ',FP/(FP+TN))                                                              # False positive rate\n",
    "    print('Precision Score = ',precision_score(y_test, y_pred))\n",
    "    print('F1 Score = ',f1_score(y_test, y_pred))"
   ]
  },
  {
   "cell_type": "code",
   "execution_count": 15,
   "metadata": {},
   "outputs": [
    {
     "name": "stdout",
     "output_type": "stream",
     "text": [
      "Accuracy Score =  0.5166666666666667\n",
      "Recall =  0.6111111111111112\n",
      "True Negative Rate =  0.4393939393939394\n",
      "False Positive Rate =  0.5606060606060607\n",
      "Precision Score =  0.4714285714285714\n",
      "F1 Score =  0.532258064516129\n"
     ]
    }
   ],
   "source": [
    "lda_stats(x_train[BP_features],x_test[BP_features],BP_train,BP_test)"
   ]
  },
  {
   "cell_type": "code",
   "execution_count": 16,
   "metadata": {
    "scrolled": true
   },
   "outputs": [],
   "source": [
    "def lda_cm(x_train,x_test,y_train,y_test):\n",
    "    lda = LinearDiscriminantAnalysis(solver='lsqr',shrinkage=None,priors=[0.4,0.6])                 # create an instance of LDA\n",
    "    lda.fit(x_train, y_train)                                                      # fit training data on LDA\n",
    "    y_pred = lda.predict(x_test)\n",
    "    n_test = x_test.shape[0]\n",
    "    cm = (confusion_matrix(y_test,y_pred,labels=[1, 0],sample_weight=None)/n_test)*100\n",
    "    plt.figure(figsize=(6, 4))      # format the plot size\n",
    "    ax = plt.subplot()\n",
    "    sns.heatmap(cm, annot=True, ax = ax, fmt='.4g', cmap=\"Reds\")\n",
    "    ax.set_xlabel('\\nPredicted signs'); ax.set_ylabel('True signs\\n')\n",
    "    ax.xaxis.tick_top()\n",
    "    ax.yaxis.set_ticklabels(['Positive sign','Negative sign'],verticalalignment='center')\n",
    "    ax.xaxis.set_ticklabels(['Positive sign','Negative sign'])\n",
    "    plt.show()"
   ]
  },
  {
   "cell_type": "code",
   "execution_count": 17,
   "metadata": {},
   "outputs": [
    {
     "data": {
      "image/png": "[encoded data removed]",
      "text/plain": [
       "<Figure size 432x288 with 2 Axes>"
      ]
     },
     "metadata": {
      "needs_background": "light"
     },
     "output_type": "display_data"
    }
   ],
   "source": [
    "lda_cm(x_train[BP_features],x_test[BP_features],BP_train,BP_test)"
   ]
  },
  {
   "cell_type": "code",
   "execution_count": 18,
   "metadata": {},
   "outputs": [],
   "source": [
    "def lda_roc(x_train,x_test,y_train,y_test):\n",
    "    # Compute the ROC curve and AUC\n",
    "    lda = LinearDiscriminantAnalysis(solver='lsqr',shrinkage=None,priors=[0.4,0.6])                 # create an instance of LDA\n",
    "    lda.fit(x_train, y_train)\n",
    "    y_pred = lda.predict(x_test)\n",
    "    Q = lda.predict_proba(x_test)[:,1]\n",
    "    fpr, tpr, _ = roc_curve(y_test, y_pred)\n",
    "    roc_auc = auc(fpr,tpr)\n",
    "    plt.figure(figsize=(8,6))      # format the plot size\n",
    "    lw = 1.5\n",
    "    plt.plot(fpr, tpr, color='darkorange',\n",
    "             lw=lw, label='ROC curve (area = %0.2f)' % roc_auc)\n",
    "    plt.plot([0, 1], [0, 1], color='navy', lw=lw, linestyle='--')\n",
    "    plt.xlim([0.0, 1.0])\n",
    "    plt.ylim([0.0, 1.05])\n",
    "    plt.xlabel('False Positive Rate')\n",
    "    plt.ylabel('True Positive Rate')\n",
    "    plt.title('Receiver operating characteristic curve')\n",
    "    plt.legend(loc=\"lower right\")\n",
    "    plt.show()"
   ]
  },
  {
   "cell_type": "code",
   "execution_count": 19,
   "metadata": {},
   "outputs": [
    {
     "data": {
      "image/png": "[encoded data removed]",
      "text/plain": [
       "<Figure size 576x432 with 1 Axes>"
      ]
     },
     "metadata": {
      "needs_background": "light"
     },
     "output_type": "display_data"
    }
   ],
   "source": [
    "lda_roc(x_train[BP_features],x_test[BP_features],BP_train,BP_test)"
   ]
  },
  {
   "cell_type": "markdown",
   "metadata": {},
   "source": [
    "**We use KNN to classify the sign of the factors**"
   ]
  },
  {
   "cell_type": "code",
   "execution_count": 20,
   "metadata": {},
   "outputs": [],
   "source": [
    "def KNN (x_train, x_test, y_train, y_test):\n",
    "    knn=range(1,30)\n",
    "    acc=[]\n",
    "    \n",
    "    for i in range(len(knn)):\n",
    "        clf = neighbors.KNeighborsClassifier(knn[i], weights='uniform')\n",
    "        clf.fit(x_train,y_train)\n",
    "    \n",
    "        acc.append(clf.score(x_test,y_test))\n",
    "\n",
    "    opt_k=acc.index(max(acc))\n",
    "    clf = neighbors.KNeighborsClassifier(knn[opt_k], weights='uniform')\n",
    "    clf.fit(x_train,y_train)\n",
    "    \n",
    "    acc=clf.score(x_test,y_test)\n",
    "    return acc"
   ]
  },
  {
   "cell_type": "code",
   "execution_count": 21,
   "metadata": {},
   "outputs": [],
   "source": [
    "def KNN_pred (x_train, x_test, y_train, y_test):\n",
    "    knn=range(1,30)\n",
    "    acc=[]\n",
    "    \n",
    "    for i in range(len(knn)):\n",
    "        clf = neighbors.KNeighborsClassifier(knn[i], weights='uniform')\n",
    "        clf.fit(x_train,y_train)\n",
    "    \n",
    "        acc.append(clf.score(x_test,y_test))\n",
    "\n",
    "    opt_k=acc.index(max(acc))\n",
    "    clf = neighbors.KNeighborsClassifier(knn[opt_k], weights='uniform')\n",
    "    clf.fit(x_train,y_train)\n",
    "    \n",
    "    pred=clf.predict(x_test)\n",
    "    return pred"
   ]
  },
  {
   "cell_type": "code",
   "execution_count": 22,
   "metadata": {},
   "outputs": [
    {
     "data": {
      "text/plain": [
       "0.5166666666666667"
      ]
     },
     "execution_count": 22,
     "metadata": {},
     "output_type": "execute_result"
    }
   ],
   "source": [
    "KNN(x_train[BP_features],x_test[BP_features],BP_train,BP_test)"
   ]
  },
  {
   "cell_type": "markdown",
   "metadata": {},
   "source": [
    "**We use Decision Tree to classify the sign of the factors**"
   ]
  },
  {
   "cell_type": "code",
   "execution_count": 23,
   "metadata": {},
   "outputs": [],
   "source": [
    "def DecisionTree (x_train, x_test, y_train, y_test):\n",
    "    dct = DecisionTreeClassifier(max_depth=5, min_samples_split=20, random_state=0, criterion = \"entropy\")\n",
    "    dct = dct.fit(x_train, y_train)\n",
    "    param_grid = {'max_depth': range(5,11),\n",
    "                  'min_samples_split': [10,15,20,25,30]}\n",
    "    grid = GridSearchCV(dct, param_grid, cv=3)\n",
    "    grid.fit(x_train, y_train)\n",
    "    # Selected parameters\n",
    "    grid.best_params_\n",
    "    # Best classifier\n",
    "    best_dct = grid.best_estimator_\n",
    "    # in-sample\n",
    "    print(\"IS Accuracy:\" + str(best_dct.score(x_train, y_train)))\n",
    "    # out-of-sample\n",
    "    print(\"OS Accuracy:\" + str(best_dct.score(x_test, y_test)))"
   ]
  },
  {
   "cell_type": "code",
   "execution_count": 24,
   "metadata": {
    "scrolled": true
   },
   "outputs": [
    {
     "name": "stdout",
     "output_type": "stream",
     "text": [
      "IS Accuracy:0.8170731707317073\n",
      "OS Accuracy:0.45\n"
     ]
    }
   ],
   "source": [
    "DecisionTree(x_train[BP_features],x_test[BP_features],BP_train,BP_test)"
   ]
  },
  {
   "cell_type": "code",
   "execution_count": 25,
   "metadata": {},
   "outputs": [],
   "source": [
    "def DT_stats(x_train, x_test, y_train, y_test):\n",
    "    dct = DecisionTreeClassifier(max_depth=5, min_samples_split=20, random_state=0, criterion = \"entropy\")\n",
    "    dct = dct.fit(x_train, y_train)\n",
    "    y_pred = dct.predict(x_test)\n",
    "    n_test = x_test.shape[0]\n",
    "    cm = (confusion_matrix(y_test,y_pred,labels=[1, 0],sample_weight=None)/n_test)*100\n",
    "    TP = cm[0][0]                                                                               # True Positives\n",
    "    FN = cm[0][1]                                                                               # False Positives\n",
    "    FP = cm[1][0]                                                                               # True Negatives\n",
    "    TN = cm[1][1]                                                                               # False Negatives\n",
    "    print('Accuracy Score = ',accuracy_score(y_test, y_pred))\n",
    "    print('Recall = ',recall_score(y_test, y_pred))\n",
    "    print('True Negative Rate = ',TN/(FP+TN))                                                              # True negative rate\n",
    "    print('False Positive Rate = ',FP/(FP+TN))                                                              # False positive rate\n",
    "    print('Precision Score = ',precision_score(y_test, y_pred))\n",
    "    print('F1 Score = ',f1_score(y_test, y_pred))"
   ]
  },
  {
   "cell_type": "code",
   "execution_count": 26,
   "metadata": {},
   "outputs": [],
   "source": [
    "def DT_cm(x_train,x_test,y_train,y_test):\n",
    "    dct = DecisionTreeClassifier(max_depth=5, min_samples_split=20, random_state=0, criterion = \"entropy\")\n",
    "    dct = dct.fit(x_train, y_train)                                                     # fit training data on LDA\n",
    "    y_pred = dct.predict(x_test)\n",
    "    n_test = x_test.shape[0]\n",
    "    cm = (confusion_matrix(y_test,y_pred,labels=[1, 0],sample_weight=None)/n_test)*100\n",
    "    plt.figure(figsize=(6, 4))      # format the plot size\n",
    "    ax = plt.subplot()\n",
    "    sns.heatmap(cm, annot=True, ax = ax, fmt='.4g', cmap=\"Reds\")\n",
    "    ax.set_xlabel('\\nPredicted signs'); ax.set_ylabel('True signs\\n')\n",
    "    ax.xaxis.tick_top()\n",
    "    ax.yaxis.set_ticklabels(['Positive sign','Negative sign'],verticalalignment='center')\n",
    "    ax.xaxis.set_ticklabels(['Positive sign','Negative sign'])\n",
    "    plt.show()"
   ]
  },
  {
   "cell_type": "code",
   "execution_count": 27,
   "metadata": {
    "scrolled": true
   },
   "outputs": [
    {
     "name": "stdout",
     "output_type": "stream",
     "text": [
      "Accuracy Score =  0.43333333333333335\n",
      "Recall =  0.6296296296296297\n",
      "True Negative Rate =  0.2727272727272727\n",
      "False Positive Rate =  0.7272727272727273\n",
      "Precision Score =  0.4146341463414634\n",
      "F1 Score =  0.5\n"
     ]
    }
   ],
   "source": [
    "DT_stats(x_train[BP_features],x_test[BP_features],BP_train,BP_test)"
   ]
  },
  {
   "cell_type": "code",
   "execution_count": 28,
   "metadata": {},
   "outputs": [
    {
     "data": {
      "image/png": "[encoded data removed]",
      "text/plain": [
       "<Figure size 432x288 with 2 Axes>"
      ]
     },
     "metadata": {
      "needs_background": "light"
     },
     "output_type": "display_data"
    }
   ],
   "source": [
    "DT_cm(x_train[BP_features],x_test[BP_features],BP_train,BP_test)"
   ]
  },
  {
   "cell_type": "markdown",
   "metadata": {},
   "source": [
    "## CAPM Beta"
   ]
  },
  {
   "cell_type": "code",
   "execution_count": 29,
   "metadata": {},
   "outputs": [
    {
     "data": {
      "text/plain": [
       "month\n",
       "198701    1\n",
       "198702    1\n",
       "198703    0\n",
       "198704    1\n",
       "198705    0\n",
       "         ..\n",
       "200702    1\n",
       "200703    0\n",
       "200704    1\n",
       "200705    1\n",
       "200706    1\n",
       "Name: Beta, Length: 246, dtype: int64"
      ]
     },
     "execution_count": 29,
     "metadata": {},
     "output_type": "execute_result"
    },
    {
     "data": {
      "text/plain": [
       "month\n",
       "201001    0\n",
       "201002    1\n",
       "201003    1\n",
       "201004    1\n",
       "201005    0\n",
       "         ..\n",
       "201908    0\n",
       "201909    1\n",
       "201910    1\n",
       "201911    1\n",
       "201912    1\n",
       "Name: Beta, Length: 120, dtype: int64"
      ]
     },
     "execution_count": 29,
     "metadata": {},
     "output_type": "execute_result"
    }
   ],
   "source": [
    "#we group the values and assign 1 to positive values, 0 to negative values\n",
    "Beta_train = train['Beta'].apply(sign)\n",
    "Beta_test = test['Beta'].apply(sign)\n",
    "Beta_train\n",
    "\n",
    "Beta_test"
   ]
  },
  {
   "cell_type": "code",
   "execution_count": 30,
   "metadata": {},
   "outputs": [
    {
     "data": {
      "text/plain": [
       "['IPB51222S',\n",
       " 'CUMFNS',\n",
       " 'UEMP15OV',\n",
       " 'USWTRADE',\n",
       " 'HOUSTNE',\n",
       " 'HOUSTMW',\n",
       " 'HOUSTW',\n",
       " 'PERMITNE',\n",
       " 'PERMITMW',\n",
       " 'ACOGNO',\n",
       " 'TOTRESNS',\n",
       " 'S&P: indust',\n",
       " 'TB3SMFFM',\n",
       " 'T5YFFM',\n",
       " 'EXSZUSx',\n",
       " 'OILPRICEx',\n",
       " 'VXOCLSx']"
      ]
     },
     "execution_count": 30,
     "metadata": {},
     "output_type": "execute_result"
    }
   ],
   "source": [
    "#We select features that can be used for the capm beta factor\n",
    "Beta_features = features('Beta',Beta_train,Beta_test)\n",
    "Beta_features"
   ]
  },
  {
   "cell_type": "markdown",
   "metadata": {},
   "source": [
    "**We first use LDA to classify the signs of the factors**"
   ]
  },
  {
   "cell_type": "code",
   "execution_count": 31,
   "metadata": {},
   "outputs": [
    {
     "data": {
      "text/plain": [
       "1    54.065041\n",
       "0    45.934959\n",
       "Name: Beta, dtype: float64"
      ]
     },
     "execution_count": 31,
     "metadata": {},
     "output_type": "execute_result"
    }
   ],
   "source": [
    "freq = Beta_train.value_counts()           # count frequency of different classes in loan status\n",
    "freq/sum(freq)*100                      # get percentage of above"
   ]
  },
  {
   "cell_type": "code",
   "execution_count": 32,
   "metadata": {},
   "outputs": [
    {
     "name": "stdout",
     "output_type": "stream",
     "text": [
      "[[-0.63657088 -0.53731309 -0.001525    0.72784298  0.33742001 -0.33468701\n",
      "  -0.74147448  0.16156756  0.71503943  0.21893968 -0.28419859  0.02319497\n",
      "  -0.22450649 -0.1810529  -0.77574231 -0.67581897 -0.71546839]]\n",
      "The in-sample accuracy is 0.6544715447154471\n",
      "The out-of-sample accuracy is 0.6083333333333333\n"
     ]
    }
   ],
   "source": [
    "lda(x_train[Beta_features],x_test[Beta_features],Beta_train,Beta_test)"
   ]
  },
  {
   "cell_type": "code",
   "execution_count": 33,
   "metadata": {},
   "outputs": [
    {
     "name": "stdout",
     "output_type": "stream",
     "text": [
      "Accuracy Score =  0.6083333333333333\n",
      "Recall =  0.7333333333333333\n",
      "True Negative Rate =  0.48333333333333334\n",
      "False Positive Rate =  0.5166666666666667\n",
      "Precision Score =  0.5866666666666667\n",
      "F1 Score =  0.6518518518518519\n"
     ]
    }
   ],
   "source": [
    "lda_stats(x_train[Beta_features],x_test[Beta_features],Beta_train,Beta_test)"
   ]
  },
  {
   "cell_type": "code",
   "execution_count": 34,
   "metadata": {},
   "outputs": [
    {
     "data": {
      "image/png": "[encoded data removed]",
      "text/plain": [
       "<Figure size 432x288 with 2 Axes>"
      ]
     },
     "metadata": {
      "needs_background": "light"
     },
     "output_type": "display_data"
    }
   ],
   "source": [
    "lda_cm(x_train[Beta_features],x_test[Beta_features],Beta_train,Beta_test)"
   ]
  },
  {
   "cell_type": "code",
   "execution_count": 35,
   "metadata": {},
   "outputs": [
    {
     "data": {
      "image/png": "[encoded data removed]",
      "text/plain": [
       "<Figure size 576x432 with 1 Axes>"
      ]
     },
     "metadata": {
      "needs_background": "light"
     },
     "output_type": "display_data"
    }
   ],
   "source": [
    "lda_roc(x_train[Beta_features],x_test[Beta_features],Beta_train,Beta_test)"
   ]
  },
  {
   "cell_type": "markdown",
   "metadata": {},
   "source": [
    "**We use KNN to classify the sign of the factors**"
   ]
  },
  {
   "cell_type": "code",
   "execution_count": 36,
   "metadata": {},
   "outputs": [
    {
     "data": {
      "text/plain": [
       "0.5333333333333333"
      ]
     },
     "execution_count": 36,
     "metadata": {},
     "output_type": "execute_result"
    }
   ],
   "source": [
    "KNN(x_train[Beta_features],x_test[Beta_features],Beta_train,Beta_test)"
   ]
  },
  {
   "cell_type": "code",
   "execution_count": null,
   "metadata": {},
   "outputs": [],
   "source": []
  },
  {
   "cell_type": "markdown",
   "metadata": {},
   "source": [
    "**We use Decision Tree to classify the sign of the factors**"
   ]
  },
  {
   "cell_type": "code",
   "execution_count": 37,
   "metadata": {
    "scrolled": false
   },
   "outputs": [
    {
     "name": "stdout",
     "output_type": "stream",
     "text": [
      "IS Accuracy:0.7642276422764228\n",
      "OS Accuracy:0.49166666666666664\n"
     ]
    }
   ],
   "source": [
    "DecisionTree(x_train[Beta_features],x_test[Beta_features],Beta_train,Beta_test)"
   ]
  },
  {
   "cell_type": "code",
   "execution_count": 38,
   "metadata": {
    "scrolled": true
   },
   "outputs": [
    {
     "name": "stdout",
     "output_type": "stream",
     "text": [
      "Accuracy Score =  0.5\n",
      "Recall =  0.85\n",
      "True Negative Rate =  0.15\n",
      "False Positive Rate =  0.85\n",
      "Precision Score =  0.5\n",
      "F1 Score =  0.6296296296296295\n"
     ]
    }
   ],
   "source": [
    "DT_stats(x_train[Beta_features],x_test[Beta_features],Beta_train,Beta_test)"
   ]
  },
  {
   "cell_type": "code",
   "execution_count": 39,
   "metadata": {
    "scrolled": true
   },
   "outputs": [
    {
     "data": {
      "image/png": "[encoded data removed]",
      "text/plain": [
       "<Figure size 432x288 with 2 Axes>"
      ]
     },
     "metadata": {
      "needs_background": "light"
     },
     "output_type": "display_data"
    }
   ],
   "source": [
    "DT_cm(x_train[Beta_features],x_test[Beta_features],Beta_train,Beta_test)"
   ]
  },
  {
   "cell_type": "markdown",
   "metadata": {},
   "source": [
    "## Momentum"
   ]
  },
  {
   "cell_type": "code",
   "execution_count": 40,
   "metadata": {
    "scrolled": true
   },
   "outputs": [
    {
     "data": {
      "text/plain": [
       "month\n",
       "198701    0\n",
       "198702    0\n",
       "198703    0\n",
       "198704    1\n",
       "198705    0\n",
       "         ..\n",
       "200702    0\n",
       "200703    1\n",
       "200704    0\n",
       "200705    0\n",
       "200706    0\n",
       "Name: MOM, Length: 246, dtype: int64"
      ]
     },
     "execution_count": 40,
     "metadata": {},
     "output_type": "execute_result"
    },
    {
     "data": {
      "text/plain": [
       "month\n",
       "201001    0\n",
       "201002    1\n",
       "201003    1\n",
       "201004    1\n",
       "201005    0\n",
       "         ..\n",
       "201908    1\n",
       "201909    0\n",
       "201910    0\n",
       "201911    0\n",
       "201912    0\n",
       "Name: MOM, Length: 120, dtype: int64"
      ]
     },
     "execution_count": 40,
     "metadata": {},
     "output_type": "execute_result"
    }
   ],
   "source": [
    "#we group the values and assign 1 to positive values, 0 to negative values\n",
    "MOM_train = train['MOM'].apply(sign)\n",
    "MOM_test = test['MOM'].apply(sign)\n",
    "MOM_train\n",
    "\n",
    "MOM_test"
   ]
  },
  {
   "cell_type": "code",
   "execution_count": 41,
   "metadata": {},
   "outputs": [
    {
     "data": {
      "text/plain": [
       "['IPNMAT',\n",
       " 'HWI',\n",
       " 'UEMPMEAN',\n",
       " 'UEMPLT5',\n",
       " 'CLAIMSx',\n",
       " 'AWHMAN',\n",
       " 'HOUSTW',\n",
       " 'PERMITS',\n",
       " 'TOTRESNS',\n",
       " 'T5YFFM',\n",
       " 'EXUSUKx',\n",
       " 'CPIAPPSL',\n",
       " 'VXOCLSx']"
      ]
     },
     "execution_count": 41,
     "metadata": {},
     "output_type": "execute_result"
    }
   ],
   "source": [
    "#We select features that can be used for the capm beta factor\n",
    "MOM_features = features('MOM',MOM_train,MOM_test)\n",
    "MOM_features"
   ]
  },
  {
   "cell_type": "markdown",
   "metadata": {},
   "source": [
    "**We first use LDA to classify the signs of the factors**"
   ]
  },
  {
   "cell_type": "code",
   "execution_count": 42,
   "metadata": {},
   "outputs": [
    {
     "data": {
      "text/plain": [
       "1    58.130081\n",
       "0    41.869919\n",
       "Name: MOM, dtype: float64"
      ]
     },
     "execution_count": 42,
     "metadata": {},
     "output_type": "execute_result"
    }
   ],
   "source": [
    "freq = MOM_train.value_counts()           # count frequency of different classes in loan status\n",
    "freq/sum(freq)*100                      # get percentage of above"
   ]
  },
  {
   "cell_type": "code",
   "execution_count": 43,
   "metadata": {},
   "outputs": [
    {
     "name": "stdout",
     "output_type": "stream",
     "text": [
      "[[ 0.19515464 -1.20104411 -1.22294026 -0.51698465 -0.69681506 -0.40625143\n",
      "   0.17422526  0.5532537   0.78825855  0.4720886  -0.23917105  0.28822831\n",
      "  -0.14826997]]\n",
      "The in-sample accuracy is 0.6788617886178862\n",
      "The out-of-sample accuracy is 0.48333333333333334\n"
     ]
    }
   ],
   "source": [
    "lda(x_train[MOM_features],x_test[MOM_features],MOM_train,MOM_test)"
   ]
  },
  {
   "cell_type": "code",
   "execution_count": 44,
   "metadata": {},
   "outputs": [
    {
     "name": "stdout",
     "output_type": "stream",
     "text": [
      "Accuracy Score =  0.48333333333333334\n",
      "Recall =  0.6363636363636364\n",
      "True Negative Rate =  0.3538461538461538\n",
      "False Positive Rate =  0.6461538461538461\n",
      "Precision Score =  0.45454545454545453\n",
      "F1 Score =  0.5303030303030303\n"
     ]
    }
   ],
   "source": [
    "lda_stats(x_train[MOM_features],x_test[MOM_features],MOM_train,MOM_test)"
   ]
  },
  {
   "cell_type": "code",
   "execution_count": 45,
   "metadata": {},
   "outputs": [
    {
     "data": {
      "image/png": "[encoded data removed]",
      "text/plain": [
       "<Figure size 432x288 with 2 Axes>"
      ]
     },
     "metadata": {
      "needs_background": "light"
     },
     "output_type": "display_data"
    }
   ],
   "source": [
    "lda_cm(x_train[MOM_features],x_test[MOM_features],MOM_train,MOM_test)"
   ]
  },
  {
   "cell_type": "code",
   "execution_count": 46,
   "metadata": {},
   "outputs": [
    {
     "data": {
      "image/png": "[encoded data removed]",
      "text/plain": [
       "<Figure size 576x432 with 1 Axes>"
      ]
     },
     "metadata": {
      "needs_background": "light"
     },
     "output_type": "display_data"
    }
   ],
   "source": [
    "lda_roc(x_train[MOM_features],x_test[MOM_features],MOM_train,MOM_test)"
   ]
  },
  {
   "cell_type": "markdown",
   "metadata": {},
   "source": [
    "**We use KNN to classify the sign of the factors**"
   ]
  },
  {
   "cell_type": "code",
   "execution_count": 47,
   "metadata": {},
   "outputs": [
    {
     "data": {
      "text/plain": [
       "0.525"
      ]
     },
     "execution_count": 47,
     "metadata": {},
     "output_type": "execute_result"
    }
   ],
   "source": [
    "KNN(x_train[MOM_features],x_test[MOM_features],MOM_train,MOM_test)"
   ]
  },
  {
   "cell_type": "code",
   "execution_count": null,
   "metadata": {},
   "outputs": [],
   "source": []
  },
  {
   "cell_type": "markdown",
   "metadata": {},
   "source": [
    "**We use Decision Tree to classify the sign of the factors**"
   ]
  },
  {
   "cell_type": "code",
   "execution_count": 48,
   "metadata": {
    "scrolled": true
   },
   "outputs": [
    {
     "name": "stdout",
     "output_type": "stream",
     "text": [
      "IS Accuracy:0.7682926829268293\n",
      "OS Accuracy:0.5166666666666667\n"
     ]
    }
   ],
   "source": [
    "DecisionTree(x_train[MOM_features],x_test[MOM_features],MOM_train,MOM_test)"
   ]
  },
  {
   "cell_type": "code",
   "execution_count": 49,
   "metadata": {},
   "outputs": [
    {
     "name": "stdout",
     "output_type": "stream",
     "text": [
      "Accuracy Score =  0.425\n",
      "Recall =  0.9090909090909091\n",
      "True Negative Rate =  0.015384615384615384\n",
      "False Positive Rate =  0.9846153846153846\n",
      "Precision Score =  0.43859649122807015\n",
      "F1 Score =  0.591715976331361\n"
     ]
    }
   ],
   "source": [
    "DT_stats(x_train[MOM_features],x_test[MOM_features],MOM_train,MOM_test)"
   ]
  },
  {
   "cell_type": "code",
   "execution_count": 50,
   "metadata": {},
   "outputs": [
    {
     "data": {
      "image/png": "[encoded data removed]",
      "text/plain": [
       "<Figure size 432x288 with 2 Axes>"
      ]
     },
     "metadata": {
      "needs_background": "light"
     },
     "output_type": "display_data"
    }
   ],
   "source": [
    "DT_cm(x_train[MOM_features],x_test[MOM_features],MOM_train,MOM_test)"
   ]
  },
  {
   "cell_type": "markdown",
   "metadata": {},
   "source": [
    "## Price Momentum (HL1M)"
   ]
  },
  {
   "cell_type": "code",
   "execution_count": 51,
   "metadata": {},
   "outputs": [
    {
     "data": {
      "text/plain": [
       "month\n",
       "198701    1\n",
       "198702    1\n",
       "198703    1\n",
       "198704    0\n",
       "198705    1\n",
       "         ..\n",
       "200702    1\n",
       "200703    0\n",
       "200704    1\n",
       "200705    0\n",
       "200706    0\n",
       "Name: HL1M, Length: 246, dtype: int64"
      ]
     },
     "execution_count": 51,
     "metadata": {},
     "output_type": "execute_result"
    },
    {
     "data": {
      "text/plain": [
       "month\n",
       "201001    1\n",
       "201002    1\n",
       "201003    1\n",
       "201004    0\n",
       "201005    0\n",
       "         ..\n",
       "201908    1\n",
       "201909    1\n",
       "201910    1\n",
       "201911    0\n",
       "201912    1\n",
       "Name: HL1M, Length: 120, dtype: int64"
      ]
     },
     "execution_count": 51,
     "metadata": {},
     "output_type": "execute_result"
    }
   ],
   "source": [
    "#we group the values and assign 1 to positive values, 0 to negative values\n",
    "HL1M_train = train['HL1M'].apply(sign)\n",
    "HL1M_test = test['HL1M'].apply(sign)\n",
    "HL1M_train\n",
    "\n",
    "HL1M_test"
   ]
  },
  {
   "cell_type": "code",
   "execution_count": 52,
   "metadata": {},
   "outputs": [
    {
     "data": {
      "text/plain": [
       "['IPB51222S',\n",
       " 'UEMP5TO14',\n",
       " 'CLAIMSx',\n",
       " 'AWOTMAN',\n",
       " 'HOUSTNE',\n",
       " 'HOUSTMW',\n",
       " 'HOUSTS',\n",
       " 'HOUSTW',\n",
       " 'PERMITNE',\n",
       " 'PERMITMW',\n",
       " 'ACOGNO',\n",
       " 'TOTRESNS',\n",
       " 'COMPAPFFx',\n",
       " 'EXJPUSx',\n",
       " 'EXUSUKx',\n",
       " 'EXCAUSx',\n",
       " 'OILPRICEx',\n",
       " 'CUSR0000SAD',\n",
       " 'UMCSENTx',\n",
       " 'VXOCLSx']"
      ]
     },
     "execution_count": 52,
     "metadata": {},
     "output_type": "execute_result"
    }
   ],
   "source": [
    "#We select features that can be used for the capm beta factor\n",
    "HL1M_features = features('HL1M',HL1M_train,HL1M_test)\n",
    "HL1M_features"
   ]
  },
  {
   "cell_type": "markdown",
   "metadata": {},
   "source": [
    "**We first use LDA to classify the signs of the factors**"
   ]
  },
  {
   "cell_type": "code",
   "execution_count": 53,
   "metadata": {},
   "outputs": [
    {
     "data": {
      "text/plain": [
       "1    57.723577\n",
       "0    42.276423\n",
       "Name: HL1M, dtype: float64"
      ]
     },
     "execution_count": 53,
     "metadata": {},
     "output_type": "execute_result"
    }
   ],
   "source": [
    "#We show the frequency of the data\n",
    "freq = HL1M_train.value_counts()           \n",
    "freq/sum(freq)*100                      "
   ]
  },
  {
   "cell_type": "code",
   "execution_count": 54,
   "metadata": {},
   "outputs": [
    {
     "name": "stdout",
     "output_type": "stream",
     "text": [
      "[[-0.15345213 -0.51220346  0.8492835   0.73115962  0.66461362 -0.68140762\n",
      "  -0.65183935 -0.19669571  0.54857269  0.43455696  0.63363745 -0.56090803\n",
      "   0.17700177 -0.47890663 -0.3262337   0.10438393 -0.38199662 -0.09985144\n",
      "  -0.130807   -0.63347284]]\n",
      "The in-sample accuracy is 0.6869918699186992\n",
      "The out-of-sample accuracy is 0.5333333333333333\n"
     ]
    }
   ],
   "source": [
    "lda(x_train[HL1M_features],x_test[HL1M_features],HL1M_train,HL1M_test)"
   ]
  },
  {
   "cell_type": "code",
   "execution_count": 55,
   "metadata": {},
   "outputs": [
    {
     "name": "stdout",
     "output_type": "stream",
     "text": [
      "Accuracy Score =  0.5333333333333333\n",
      "Recall =  0.7058823529411765\n",
      "True Negative Rate =  0.3076923076923077\n",
      "False Positive Rate =  0.6923076923076923\n",
      "Precision Score =  0.5714285714285714\n",
      "F1 Score =  0.6315789473684211\n"
     ]
    }
   ],
   "source": [
    "lda_stats(x_train[HL1M_features],x_test[HL1M_features],HL1M_train,HL1M_test)"
   ]
  },
  {
   "cell_type": "code",
   "execution_count": 56,
   "metadata": {},
   "outputs": [
    {
     "data": {
      "image/png": "[encoded data removed]",
      "text/plain": [
       "<Figure size 432x288 with 2 Axes>"
      ]
     },
     "metadata": {
      "needs_background": "light"
     },
     "output_type": "display_data"
    }
   ],
   "source": [
    "lda_cm(x_train[HL1M_features],x_test[HL1M_features],HL1M_train,HL1M_test)"
   ]
  },
  {
   "cell_type": "code",
   "execution_count": 57,
   "metadata": {},
   "outputs": [
    {
     "data": {
      "image/png": "[encoded data removed]",
      "text/plain": [
       "<Figure size 576x432 with 1 Axes>"
      ]
     },
     "metadata": {
      "needs_background": "light"
     },
     "output_type": "display_data"
    }
   ],
   "source": [
    "lda_roc(x_train[HL1M_features],x_test[HL1M_features],HL1M_train,HL1M_test)"
   ]
  },
  {
   "cell_type": "markdown",
   "metadata": {},
   "source": [
    "**We use KNN to classify the sign of the factors**"
   ]
  },
  {
   "cell_type": "code",
   "execution_count": 58,
   "metadata": {},
   "outputs": [
    {
     "data": {
      "text/plain": [
       "0.6083333333333333"
      ]
     },
     "execution_count": 58,
     "metadata": {},
     "output_type": "execute_result"
    }
   ],
   "source": [
    "KNN(x_train[HL1M_features],x_test[HL1M_features],HL1M_train,HL1M_test)"
   ]
  },
  {
   "cell_type": "code",
   "execution_count": null,
   "metadata": {},
   "outputs": [],
   "source": []
  },
  {
   "cell_type": "markdown",
   "metadata": {},
   "source": [
    "**We use Decision Tree to classify the sign of the factors**"
   ]
  },
  {
   "cell_type": "code",
   "execution_count": 59,
   "metadata": {
    "scrolled": true
   },
   "outputs": [
    {
     "name": "stdout",
     "output_type": "stream",
     "text": [
      "IS Accuracy:0.7317073170731707\n",
      "OS Accuracy:0.5666666666666667\n"
     ]
    }
   ],
   "source": [
    "DecisionTree(x_train[HL1M_features],x_test[HL1M_features],HL1M_train,HL1M_test)"
   ]
  },
  {
   "cell_type": "code",
   "execution_count": 60,
   "metadata": {
    "scrolled": true
   },
   "outputs": [
    {
     "name": "stdout",
     "output_type": "stream",
     "text": [
      "Accuracy Score =  0.55\n",
      "Recall =  0.8676470588235294\n",
      "True Negative Rate =  0.1346153846153846\n",
      "False Positive Rate =  0.8653846153846153\n",
      "Precision Score =  0.5673076923076923\n",
      "F1 Score =  0.686046511627907\n"
     ]
    }
   ],
   "source": [
    "DT_stats(x_train[HL1M_features],x_test[HL1M_features],HL1M_train,HL1M_test)"
   ]
  },
  {
   "cell_type": "code",
   "execution_count": 61,
   "metadata": {},
   "outputs": [
    {
     "data": {
      "image/png": "[encoded data removed]",
      "text/plain": [
       "<Figure size 432x288 with 2 Axes>"
      ]
     },
     "metadata": {
      "needs_background": "light"
     },
     "output_type": "display_data"
    }
   ],
   "source": [
    "DT_cm(x_train[HL1M_features],x_test[HL1M_features],HL1M_train,HL1M_test)"
   ]
  },
  {
   "cell_type": "markdown",
   "metadata": {},
   "source": [
    "## Size (LogMktCap)"
   ]
  },
  {
   "cell_type": "code",
   "execution_count": 62,
   "metadata": {},
   "outputs": [
    {
     "data": {
      "text/plain": [
       "month\n",
       "198701    1\n",
       "198702    1\n",
       "198703    0\n",
       "198704    1\n",
       "198705    1\n",
       "         ..\n",
       "200702    1\n",
       "200703    0\n",
       "200704    0\n",
       "200705    0\n",
       "200706    0\n",
       "Name: LogMktCap, Length: 246, dtype: int64"
      ]
     },
     "execution_count": 62,
     "metadata": {},
     "output_type": "execute_result"
    },
    {
     "data": {
      "text/plain": [
       "month\n",
       "201001    1\n",
       "201002    1\n",
       "201003    1\n",
       "201004    1\n",
       "201005    1\n",
       "         ..\n",
       "201908    0\n",
       "201909    1\n",
       "201910    0\n",
       "201911    0\n",
       "201912    1\n",
       "Name: LogMktCap, Length: 120, dtype: int64"
      ]
     },
     "execution_count": 62,
     "metadata": {},
     "output_type": "execute_result"
    }
   ],
   "source": [
    "#we group the values and assign 1 to positive values, 0 to negative values\n",
    "LogMktCap_train = train['LogMktCap'].apply(sign)\n",
    "LogMktCap_test = test['LogMktCap'].apply(sign)\n",
    "LogMktCap_train\n",
    "\n",
    "LogMktCap_test"
   ]
  },
  {
   "cell_type": "code",
   "execution_count": 63,
   "metadata": {},
   "outputs": [
    {
     "data": {
      "text/plain": [
       "['IPNMAT',\n",
       " 'CUMFNS',\n",
       " 'HWI',\n",
       " 'AWOTMAN',\n",
       " 'HOUSTMW',\n",
       " 'HOUSTW',\n",
       " 'PERMITNE',\n",
       " 'PERMITMW',\n",
       " 'ACOGNO',\n",
       " 'TOTRESNS',\n",
       " 'S&P PE ratio',\n",
       " 'EXJPUSx',\n",
       " 'EXCAUSx',\n",
       " 'WPSID62']"
      ]
     },
     "execution_count": 63,
     "metadata": {},
     "output_type": "execute_result"
    }
   ],
   "source": [
    "#We select features that can be used for the capm beta factor\n",
    "LogMktCap_features = features('LogMktCap',LogMktCap_train,LogMktCap_test)\n",
    "LogMktCap_features"
   ]
  },
  {
   "cell_type": "markdown",
   "metadata": {},
   "source": [
    "**We first use LDA to classify the signs of the factors**"
   ]
  },
  {
   "cell_type": "code",
   "execution_count": 64,
   "metadata": {},
   "outputs": [
    {
     "data": {
      "text/plain": [
       "1    50.0\n",
       "0    50.0\n",
       "Name: LogMktCap, dtype: float64"
      ]
     },
     "execution_count": 64,
     "metadata": {},
     "output_type": "execute_result"
    }
   ],
   "source": [
    "#We show the frequency of the data\n",
    "freq = LogMktCap_train.value_counts()           \n",
    "freq/sum(freq)*100                      "
   ]
  },
  {
   "cell_type": "code",
   "execution_count": 65,
   "metadata": {},
   "outputs": [
    {
     "name": "stdout",
     "output_type": "stream",
     "text": [
      "[[-0.44903101  0.49443116 -0.53783942 -0.77658273 -0.35880511 -1.06772575\n",
      "   0.88405042  0.9377335  -0.29766454 -0.78007335 -0.41263597 -0.44508804\n",
      "   0.70548049  0.82161906]]\n",
      "The in-sample accuracy is 0.6382113821138211\n",
      "The out-of-sample accuracy is 0.5666666666666667\n"
     ]
    }
   ],
   "source": [
    "lda(x_train[LogMktCap_features],x_test[LogMktCap_features],LogMktCap_train,LogMktCap_test)"
   ]
  },
  {
   "cell_type": "code",
   "execution_count": 66,
   "metadata": {},
   "outputs": [
    {
     "name": "stdout",
     "output_type": "stream",
     "text": [
      "Accuracy Score =  0.5666666666666667\n",
      "Recall =  0.6\n",
      "True Negative Rate =  0.5272727272727272\n",
      "False Positive Rate =  0.4727272727272727\n",
      "Precision Score =  0.6\n",
      "F1 Score =  0.6\n"
     ]
    }
   ],
   "source": [
    "lda_stats(x_train[LogMktCap_features],x_test[LogMktCap_features],LogMktCap_train,LogMktCap_test)"
   ]
  },
  {
   "cell_type": "code",
   "execution_count": 67,
   "metadata": {
    "scrolled": true
   },
   "outputs": [
    {
     "data": {
      "image/png": "[encoded data removed]",
      "text/plain": [
       "<Figure size 432x288 with 2 Axes>"
      ]
     },
     "metadata": {
      "needs_background": "light"
     },
     "output_type": "display_data"
    }
   ],
   "source": [
    "lda_cm(x_train[LogMktCap_features],x_test[LogMktCap_features],LogMktCap_train,LogMktCap_test)"
   ]
  },
  {
   "cell_type": "code",
   "execution_count": 68,
   "metadata": {},
   "outputs": [
    {
     "data": {
      "image/png": "[encoded data removed]",
      "text/plain": [
       "<Figure size 576x432 with 1 Axes>"
      ]
     },
     "metadata": {
      "needs_background": "light"
     },
     "output_type": "display_data"
    }
   ],
   "source": [
    "lda_roc(x_train[LogMktCap_features],x_test[LogMktCap_features],LogMktCap_train,LogMktCap_test)"
   ]
  },
  {
   "cell_type": "markdown",
   "metadata": {},
   "source": [
    "**We use KNN to classify the sign of the factors**"
   ]
  },
  {
   "cell_type": "code",
   "execution_count": 69,
   "metadata": {},
   "outputs": [
    {
     "data": {
      "text/plain": [
       "0.5666666666666667"
      ]
     },
     "execution_count": 69,
     "metadata": {},
     "output_type": "execute_result"
    }
   ],
   "source": [
    "KNN(x_train[LogMktCap_features],x_test[LogMktCap_features],LogMktCap_train,LogMktCap_test)"
   ]
  },
  {
   "cell_type": "code",
   "execution_count": null,
   "metadata": {},
   "outputs": [],
   "source": []
  },
  {
   "cell_type": "markdown",
   "metadata": {},
   "source": [
    "**We use Decision Tree to classify the sign of the factors**"
   ]
  },
  {
   "cell_type": "code",
   "execution_count": 70,
   "metadata": {
    "scrolled": true
   },
   "outputs": [
    {
     "name": "stdout",
     "output_type": "stream",
     "text": [
      "IS Accuracy:0.7560975609756098\n",
      "OS Accuracy:0.48333333333333334\n"
     ]
    }
   ],
   "source": [
    "DecisionTree(x_train[LogMktCap_features],x_test[LogMktCap_features],LogMktCap_train,LogMktCap_test)"
   ]
  },
  {
   "cell_type": "code",
   "execution_count": 71,
   "metadata": {},
   "outputs": [
    {
     "name": "stdout",
     "output_type": "stream",
     "text": [
      "Accuracy Score =  0.48333333333333334\n",
      "Recall =  0.2153846153846154\n",
      "True Negative Rate =  0.8\n",
      "False Positive Rate =  0.2\n",
      "Precision Score =  0.56\n",
      "F1 Score =  0.3111111111111111\n"
     ]
    }
   ],
   "source": [
    "DT_stats(x_train[LogMktCap_features],x_test[LogMktCap_features],LogMktCap_train,LogMktCap_test)"
   ]
  },
  {
   "cell_type": "code",
   "execution_count": 72,
   "metadata": {},
   "outputs": [
    {
     "data": {
      "image/png": "[encoded data removed]",
      "text/plain": [
       "<Figure size 432x288 with 2 Axes>"
      ]
     },
     "metadata": {
      "needs_background": "light"
     },
     "output_type": "display_data"
    }
   ],
   "source": [
    "DT_cm(x_train[LogMktCap_features],x_test[LogMktCap_features],LogMktCap_train,LogMktCap_test)"
   ]
  },
  {
   "cell_type": "markdown",
   "metadata": {},
   "source": [
    "## Portfolio Construction"
   ]
  },
  {
   "cell_type": "code",
   "execution_count": 73,
   "metadata": {},
   "outputs": [],
   "source": [
    "#define convert function to facilitate portfolio construction\n",
    "def convert(x):\n",
    "    for i in range(0,len(x)):\n",
    "        if x[i] == 0:\n",
    "            x[i] = -1\n",
    "    return x"
   ]
  },
  {
   "cell_type": "code",
   "execution_count": 74,
   "metadata": {},
   "outputs": [],
   "source": [
    "#We chose KNN as our best machine learning method to predict the factor returns\n",
    "\n",
    "BP_pred = KNN_pred(x_train[BP_features],x_test[BP_features],BP_train,BP_test)\n",
    "Beta_pred = KNN_pred(x_train[Beta_features],x_test[Beta_features],Beta_train,Beta_test)\n",
    "MOM_pred = KNN_pred(x_train[MOM_features],x_test[MOM_features],MOM_train,MOM_test)\n",
    "HL1M_pred = KNN_pred(x_train[HL1M_features],x_test[HL1M_features],HL1M_train,HL1M_test)\n",
    "LogMktCap_pred = KNN_pred(x_train[LogMktCap_features],x_test[LogMktCap_features],LogMktCap_train,LogMktCap_test)"
   ]
  },
  {
   "cell_type": "code",
   "execution_count": 75,
   "metadata": {},
   "outputs": [],
   "source": [
    "#Apply long short to our prediction results\n",
    "\n",
    "port_BP = test['BP'] * convert(BP_pred)\n",
    "port_Beta = test['Beta'] * convert(Beta_pred)\n",
    "port_MOM = test['MOM'] * convert(MOM_pred)\n",
    "port_HL1M = test['HL1M'] * convert(HL1M_pred)\n",
    "port_LogMktCap = test['LogMktCap'] * convert(LogMktCap_pred)"
   ]
  },
  {
   "cell_type": "code",
   "execution_count": 76,
   "metadata": {},
   "outputs": [
    {
     "data": {
      "text/plain": [
       "month\n",
       "201001    0.042218\n",
       "201002   -0.010718\n",
       "201003   -0.014808\n",
       "201004    0.001436\n",
       "201005    0.008909\n",
       "            ...   \n",
       "201908   -0.038800\n",
       "201909    0.006584\n",
       "201910    0.008262\n",
       "201911   -0.001125\n",
       "201912   -0.001346\n",
       "Length: 120, dtype: float64"
      ]
     },
     "execution_count": 76,
     "metadata": {},
     "output_type": "execute_result"
    }
   ],
   "source": [
    "#Apply equal weights to all the factors and calculate our portfolio return for the out-of-sample period\n",
    "\n",
    "port = 0.2 * port_BP +  0.2 * port_Beta + 0.2 * port_MOM + 0.2 * port_HL1M + 0.2 * port_LogMktCap\n",
    "port"
   ]
  },
  {
   "cell_type": "code",
   "execution_count": 77,
   "metadata": {},
   "outputs": [],
   "source": [
    "#We run a regression to evaluate our portfolio performance\n",
    "\n",
    "reg = LinearRegression().fit(test[['BP','Beta','MOM','HL1M','LogMktCap']], port)"
   ]
  },
  {
   "cell_type": "code",
   "execution_count": 78,
   "metadata": {},
   "outputs": [
    {
     "data": {
      "text/plain": [
       "array([ 0.00170314,  0.10969622, -0.04380107,  0.0964986 , -0.16737021])"
      ]
     },
     "execution_count": 78,
     "metadata": {},
     "output_type": "execute_result"
    }
   ],
   "source": [
    "#The regression coefficients are our true factor exposures\n",
    "\n",
    "reg.coef_"
   ]
  },
  {
   "cell_type": "code",
   "execution_count": 79,
   "metadata": {
    "scrolled": true
   },
   "outputs": [
    {
     "data": {
      "text/plain": [
       "0.0017968920097532236"
      ]
     },
     "execution_count": 79,
     "metadata": {},
     "output_type": "execute_result"
    }
   ],
   "source": [
    "#We calculate our portfolio alpha\n",
    "\n",
    "alpha = reg.intercept_\n",
    "alpha"
   ]
  },
  {
   "cell_type": "code",
   "execution_count": 80,
   "metadata": {},
   "outputs": [
    {
     "data": {
      "text/plain": [
       "0.09092342635124609"
      ]
     },
     "execution_count": 80,
     "metadata": {},
     "output_type": "execute_result"
    }
   ],
   "source": [
    "#We calculate our sharpe ratio (assuming risk free rate is 0.07%)\n",
    "\n",
    "(port.mean()-0.0007) / port.std()"
   ]
  },
  {
   "cell_type": "code",
   "execution_count": null,
   "metadata": {},
   "outputs": [],
   "source": []
  }
 ],
 "metadata": {
  "kernelspec": {
   "display_name": "Python 3",
   "language": "python",
   "name": "python3"
  },
  "language_info": {
   "codemirror_mode": {
    "name": "ipython",
    "version": 3
   },
   "file_extension": ".py",
   "mimetype": "text/x-python",
   "name": "python",
   "nbconvert_exporter": "python",
   "pygments_lexer": "ipython3",
   "version": "3.8.3"
  }
 },
 "nbformat": 4,
 "nbformat_minor": 4
}
